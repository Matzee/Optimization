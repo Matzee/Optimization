{
 "cells": [
  {
   "cell_type": "markdown",
   "metadata": {},
   "source": [
    "# Read data and Data cleaning"
   ]
  },
  {
   "cell_type": "code",
   "execution_count": 1,
   "metadata": {
    "collapsed": true
   },
   "outputs": [],
   "source": [
    "using DataFrames\n",
    "using JuMP\n",
    "using ExcelReaders"
   ]
  },
  {
   "cell_type": "code",
   "execution_count": 2,
   "metadata": {
    "scrolled": true
   },
   "outputs": [
    {
     "data": {
      "text/html": [
       "<table class=\"data-frame\"><thead><tr><th></th><th>i</th><th>slo</th><th>sup</th><th>plo</th><th>pup</th><th>c</th></tr></thead><tbody><tr><th>1</th><td>Anderlues</td><td>0.0</td><td>1.2</td><td>0</td><td>66.2</td><td>0.0</td></tr><tr><th>2</th><td>Antwerpen</td><td>-Inf</td><td>-4.034</td><td>30</td><td>80.0</td><td>0.0</td></tr><tr><th>3</th><td>Arlon</td><td>-Inf</td><td>-0.222</td><td>0</td><td>66.2</td><td>0.0</td></tr><tr><th>4</th><td>Berneau</td><td>0.0</td><td>0.0</td><td>0</td><td>66.2</td><td>0.0</td></tr><tr><th>5</th><td>Blaregnies</td><td>-Inf</td><td>-15.616</td><td>50</td><td>66.2</td><td>0.0</td></tr><tr><th>6</th><td>Brugge</td><td>-Inf</td><td>-3.918</td><td>30</td><td>80.0</td><td>0.0</td></tr><tr><th>7</th><td>Dudzele</td><td>0.0</td><td>8.4</td><td>0</td><td>77.0</td><td>2.28</td></tr><tr><th>8</th><td>Gent</td><td>-Inf</td><td>-5.256</td><td>30</td><td>80.0</td><td>0.0</td></tr><tr><th>9</th><td>Liege</td><td>-Inf</td><td>-6.385</td><td>30</td><td>66.2</td><td>0.0</td></tr><tr><th>10</th><td>Loenhout</td><td>0.0</td><td>4.8</td><td>0</td><td>77.0</td><td>2.28</td></tr><tr><th>11</th><td>Mons</td><td>-Inf</td><td>-6.848</td><td>0</td><td>66.2</td><td>0.0</td></tr><tr><th>12</th><td>Namur</td><td>-Inf</td><td>-2.12</td><td>0</td><td>66.2</td><td>0.0</td></tr><tr><th>13</th><td>Petange</td><td>-Inf</td><td>-1.919</td><td>25</td><td>66.2</td><td>0.0</td></tr><tr><th>14</th><td>Peronnes</td><td>0.0</td><td>0.96</td><td>0</td><td>66.2</td><td>1.68</td></tr><tr><th>15</th><td>Sinsin</td><td>0.0</td><td>0.0</td><td>0</td><td>63.0</td><td>0.0</td></tr><tr><th>16</th><td>Voeren</td><td>20.344</td><td>22.012</td><td>50</td><td>66.2</td><td>1.68</td></tr><tr><th>17</th><td>Wanze</td><td>0.0</td><td>0.0</td><td>0</td><td>66.2</td><td>0.0</td></tr><tr><th>18</th><td>Warnand</td><td>0.0</td><td>0.0</td><td>0</td><td>66.2</td><td>0.0</td></tr><tr><th>19</th><td>Zeebrugge</td><td>8.87</td><td>11.594</td><td>0</td><td>77.0</td><td>2.28</td></tr><tr><th>20</th><td>Zomergem</td><td>0.0</td><td>0.0</td><td>0</td><td>80.0</td><td>0.0</td></tr></tbody></table>"
      ],
      "text/plain": [
       "20×6 DataFrames.DataFrame\n",
       "│ Row │ i            │ slo    │ sup     │ plo │ pup  │ c    │\n",
       "├─────┼──────────────┼────────┼─────────┼─────┼──────┼──────┤\n",
       "│ 1   │ \"Anderlues\"  │ 0.0    │ 1.2     │ 0   │ 66.2 │ 0.0  │\n",
       "│ 2   │ \"Antwerpen\"  │ -Inf   │ -4.034  │ 30  │ 80.0 │ 0.0  │\n",
       "│ 3   │ \"Arlon\"      │ -Inf   │ -0.222  │ 0   │ 66.2 │ 0.0  │\n",
       "│ 4   │ \"Berneau\"    │ 0.0    │ 0.0     │ 0   │ 66.2 │ 0.0  │\n",
       "│ 5   │ \"Blaregnies\" │ -Inf   │ -15.616 │ 50  │ 66.2 │ 0.0  │\n",
       "│ 6   │ \"Brugge\"     │ -Inf   │ -3.918  │ 30  │ 80.0 │ 0.0  │\n",
       "│ 7   │ \"Dudzele\"    │ 0.0    │ 8.4     │ 0   │ 77.0 │ 2.28 │\n",
       "│ 8   │ \"Gent\"       │ -Inf   │ -5.256  │ 30  │ 80.0 │ 0.0  │\n",
       "│ 9   │ \"Liege\"      │ -Inf   │ -6.385  │ 30  │ 66.2 │ 0.0  │\n",
       "│ 10  │ \"Loenhout\"   │ 0.0    │ 4.8     │ 0   │ 77.0 │ 2.28 │\n",
       "│ 11  │ \"Mons\"       │ -Inf   │ -6.848  │ 0   │ 66.2 │ 0.0  │\n",
       "│ 12  │ \"Namur\"      │ -Inf   │ -2.12   │ 0   │ 66.2 │ 0.0  │\n",
       "│ 13  │ \"Petange\"    │ -Inf   │ -1.919  │ 25  │ 66.2 │ 0.0  │\n",
       "│ 14  │ \"Peronnes\"   │ 0.0    │ 0.96    │ 0   │ 66.2 │ 1.68 │\n",
       "│ 15  │ \"Sinsin\"     │ 0.0    │ 0.0     │ 0   │ 63.0 │ 0.0  │\n",
       "│ 16  │ \"Voeren\"     │ 20.344 │ 22.012  │ 50  │ 66.2 │ 1.68 │\n",
       "│ 17  │ \"Wanze\"      │ 0.0    │ 0.0     │ 0   │ 66.2 │ 0.0  │\n",
       "│ 18  │ \"Warnand\"    │ 0.0    │ 0.0     │ 0   │ 66.2 │ 0.0  │\n",
       "│ 19  │ \"Zeebrugge\"  │ 8.87   │ 11.594  │ 0   │ 77.0 │ 2.28 │\n",
       "│ 20  │ \"Zomergem\"   │ 0.0    │ 0.0     │ 0   │ 80.0 │ 0.0  │"
      ]
     },
     "execution_count": 2,
     "metadata": {},
     "output_type": "execute_result"
    }
   ],
   "source": [
    "Ndata = readtable(\"Ndata.csv\", separator=';')"
   ]
  },
  {
   "cell_type": "code",
   "execution_count": 3,
   "metadata": {
    "scrolled": true
   },
   "outputs": [
    {
     "data": {
      "text/html": [
       "<table class=\"data-frame\"><thead><tr><th></th><th>a</th><th>i</th><th>j</th><th>D</th><th>L</th><th>act</th></tr></thead><tbody><tr><th>1</th><td>1</td><td>Zeebrugge</td><td>Dudzele</td><td>890.0</td><td>4.0</td><td>0</td></tr><tr><th>2</th><td>2</td><td>Zeebrugge</td><td>Dudzele</td><td>890.0</td><td>4.0</td><td>0</td></tr><tr><th>3</th><td>3</td><td>Dudzele</td><td>Brugge</td><td>890.0</td><td>6.0</td><td>0</td></tr><tr><th>4</th><td>4</td><td>Dudzele</td><td>Brugge</td><td>890.0</td><td>6.0</td><td>0</td></tr><tr><th>5</th><td>5</td><td>Brugge</td><td>Zomergem</td><td>890.0</td><td>26.0</td><td>0</td></tr><tr><th>6</th><td>6</td><td>Loenhout</td><td>Antwerpen</td><td>590.1</td><td>43.0</td><td>0</td></tr><tr><th>7</th><td>7</td><td>Antwerpen</td><td>Gent</td><td>590.1</td><td>29.0</td><td>0</td></tr><tr><th>8</th><td>8</td><td>Gent</td><td>Zomergem</td><td>590.1</td><td>19.0</td><td>0</td></tr><tr><th>9</th><td>9</td><td>Zomergem</td><td>Peronnes</td><td>890.0</td><td>55.0</td><td>0</td></tr><tr><th>10</th><td>10</td><td>Voeren</td><td>Berneau</td><td>890.0</td><td>5.0</td><td>1</td></tr><tr><th>11</th><td>11</td><td>Voeren</td><td>Berneau</td><td>395.0</td><td>5.0</td><td>1</td></tr><tr><th>12</th><td>12</td><td>Berneau</td><td>Liege</td><td>890.0</td><td>20.0</td><td>0</td></tr><tr><th>13</th><td>13</td><td>Berneau</td><td>Liege</td><td>395.0</td><td>20.0</td><td>0</td></tr><tr><th>14</th><td>14</td><td>Liege</td><td>Warnand</td><td>890.0</td><td>25.0</td><td>0</td></tr><tr><th>15</th><td>15</td><td>Liege</td><td>Warnand</td><td>395.0</td><td>25.0</td><td>0</td></tr><tr><th>16</th><td>16</td><td>Warnand</td><td>Namur</td><td>890.0</td><td>42.0</td><td>0</td></tr><tr><th>17</th><td>17</td><td>Namur</td><td>Anderlues</td><td>890.0</td><td>40.0</td><td>0</td></tr><tr><th>18</th><td>18</td><td>Anderlues</td><td>Peronnes</td><td>890.0</td><td>5.0</td><td>0</td></tr><tr><th>19</th><td>19</td><td>Peronnes</td><td>Mons</td><td>890.0</td><td>10.0</td><td>0</td></tr><tr><th>20</th><td>20</td><td>Mons</td><td>Blaregnies</td><td>890.0</td><td>25.0</td><td>0</td></tr><tr><th>21</th><td>21</td><td>Warnand</td><td>Wanze</td><td>395.5</td><td>10.5</td><td>0</td></tr><tr><th>22</th><td>22</td><td>Wanze</td><td>Sinsin</td><td>315.5</td><td>26.0</td><td>1</td></tr><tr><th>23</th><td>23</td><td>Sinsin</td><td>Arlon</td><td>315.5</td><td>98.0</td><td>0</td></tr><tr><th>24</th><td>24</td><td>Arlon</td><td>Petange</td><td>315.5</td><td>6.0</td><td>0</td></tr></tbody></table>"
      ],
      "text/plain": [
       "24×6 DataFrames.DataFrame\n",
       "│ Row │ a  │ i           │ j            │ D     │ L    │ act │\n",
       "├─────┼────┼─────────────┼──────────────┼───────┼──────┼─────┤\n",
       "│ 1   │ 1  │ \"Zeebrugge\" │ \"Dudzele\"    │ 890.0 │ 4.0  │ 0   │\n",
       "│ 2   │ 2  │ \"Zeebrugge\" │ \"Dudzele\"    │ 890.0 │ 4.0  │ 0   │\n",
       "│ 3   │ 3  │ \"Dudzele\"   │ \"Brugge\"     │ 890.0 │ 6.0  │ 0   │\n",
       "│ 4   │ 4  │ \"Dudzele\"   │ \"Brugge\"     │ 890.0 │ 6.0  │ 0   │\n",
       "│ 5   │ 5  │ \"Brugge\"    │ \"Zomergem\"   │ 890.0 │ 26.0 │ 0   │\n",
       "│ 6   │ 6  │ \"Loenhout\"  │ \"Antwerpen\"  │ 590.1 │ 43.0 │ 0   │\n",
       "│ 7   │ 7  │ \"Antwerpen\" │ \"Gent\"       │ 590.1 │ 29.0 │ 0   │\n",
       "│ 8   │ 8  │ \"Gent\"      │ \"Zomergem\"   │ 590.1 │ 19.0 │ 0   │\n",
       "│ 9   │ 9  │ \"Zomergem\"  │ \"Peronnes\"   │ 890.0 │ 55.0 │ 0   │\n",
       "│ 10  │ 10 │ \"Voeren\"    │ \"Berneau\"    │ 890.0 │ 5.0  │ 1   │\n",
       "│ 11  │ 11 │ \"Voeren\"    │ \"Berneau\"    │ 395.0 │ 5.0  │ 1   │\n",
       "│ 12  │ 12 │ \"Berneau\"   │ \"Liege\"      │ 890.0 │ 20.0 │ 0   │\n",
       "│ 13  │ 13 │ \"Berneau\"   │ \"Liege\"      │ 395.0 │ 20.0 │ 0   │\n",
       "│ 14  │ 14 │ \"Liege\"     │ \"Warnand\"    │ 890.0 │ 25.0 │ 0   │\n",
       "│ 15  │ 15 │ \"Liege\"     │ \"Warnand\"    │ 395.0 │ 25.0 │ 0   │\n",
       "│ 16  │ 16 │ \"Warnand\"   │ \"Namur\"      │ 890.0 │ 42.0 │ 0   │\n",
       "│ 17  │ 17 │ \"Namur\"     │ \"Anderlues\"  │ 890.0 │ 40.0 │ 0   │\n",
       "│ 18  │ 18 │ \"Anderlues\" │ \"Peronnes\"   │ 890.0 │ 5.0  │ 0   │\n",
       "│ 19  │ 19 │ \"Peronnes\"  │ \"Mons\"       │ 890.0 │ 10.0 │ 0   │\n",
       "│ 20  │ 20 │ \"Mons\"      │ \"Blaregnies\" │ 890.0 │ 25.0 │ 0   │\n",
       "│ 21  │ 21 │ \"Warnand\"   │ \"Wanze\"      │ 395.5 │ 10.5 │ 0   │\n",
       "│ 22  │ 22 │ \"Wanze\"     │ \"Sinsin\"     │ 315.5 │ 26.0 │ 1   │\n",
       "│ 23  │ 23 │ \"Sinsin\"    │ \"Arlon\"      │ 315.5 │ 98.0 │ 0   │\n",
       "│ 24  │ 24 │ \"Arlon\"     │ \"Petange\"    │ 315.5 │ 6.0  │ 0   │"
      ]
     },
     "execution_count": 3,
     "metadata": {},
     "output_type": "execute_result"
    }
   ],
   "source": [
    "Adata = readtable(\"Adata.csv\", separator=';')"
   ]
  },
  {
   "cell_type": "code",
   "execution_count": 287,
   "metadata": {
    "scrolled": true
   },
   "outputs": [
    {
     "data": {
      "text/plain": [
       "20-element DataArrays.DataArray{String,1}:\n",
       " \"Anderlues\" \n",
       " \"Antwerpen\" \n",
       " \"Arlon\"     \n",
       " \"Berneau\"   \n",
       " \"Blaregnies\"\n",
       " \"Brugge\"    \n",
       " \"Dudzele\"   \n",
       " \"Gent\"      \n",
       " \"Liege\"     \n",
       " \"Loenhout\"  \n",
       " \"Mons\"      \n",
       " \"Namur\"     \n",
       " \"Petange\"   \n",
       " \"Peronnes\"  \n",
       " \"Sinsin\"    \n",
       " \"Voeren\"    \n",
       " \"Wanze\"     \n",
       " \"Warnand\"   \n",
       " \"Zeebrugge\" \n",
       " \"Zomergem\"  "
      ]
     },
     "execution_count": 287,
     "metadata": {},
     "output_type": "execute_result"
    }
   ],
   "source": [
    "I = Ndata[:i] #set of cities -->  i,j element of I "
   ]
  },
  {
   "cell_type": "code",
   "execution_count": 288,
   "metadata": {},
   "outputs": [
    {
     "data": {
      "text/plain": [
       "20-element DataArrays.DataArray{String,1}:\n",
       " \"Anderlues\" \n",
       " \"Antwerpen\" \n",
       " \"Arlon\"     \n",
       " \"Berneau\"   \n",
       " \"Blaregnies\"\n",
       " \"Brugge\"    \n",
       " \"Dudzele\"   \n",
       " \"Gent\"      \n",
       " \"Liege\"     \n",
       " \"Loenhout\"  \n",
       " \"Mons\"      \n",
       " \"Namur\"     \n",
       " \"Petange\"   \n",
       " \"Peronnes\"  \n",
       " \"Sinsin\"    \n",
       " \"Voeren\"    \n",
       " \"Wanze\"     \n",
       " \"Warnand\"   \n",
       " \"Zeebrugge\" \n",
       " \"Zomergem\"  "
      ]
     },
     "execution_count": 288,
     "metadata": {},
     "output_type": "execute_result"
    }
   ],
   "source": [
    "I"
   ]
  },
  {
   "cell_type": "code",
   "execution_count": 227,
   "metadata": {},
   "outputs": [
    {
     "data": {
      "text/html": [
       "<table class=\"data-frame\"><thead><tr><th></th><th>i</th><th>slo</th><th>sup</th><th>plo</th><th>pup</th><th>c</th></tr></thead><tbody><tr><th>1</th><td>Anderlues</td><td>0.0</td><td>1.2</td><td>0</td><td>66.2</td><td>0.0</td></tr><tr><th>2</th><td>Antwerpen</td><td>-Inf</td><td>-4.034</td><td>30</td><td>80.0</td><td>0.0</td></tr><tr><th>3</th><td>Arlon</td><td>-Inf</td><td>-0.222</td><td>0</td><td>66.2</td><td>0.0</td></tr><tr><th>4</th><td>Berneau</td><td>0.0</td><td>0.0</td><td>0</td><td>66.2</td><td>0.0</td></tr><tr><th>5</th><td>Blaregnies</td><td>-Inf</td><td>-15.616</td><td>50</td><td>66.2</td><td>0.0</td></tr><tr><th>6</th><td>Brugge</td><td>-Inf</td><td>-3.918</td><td>30</td><td>80.0</td><td>0.0</td></tr><tr><th>7</th><td>Dudzele</td><td>0.0</td><td>8.4</td><td>0</td><td>77.0</td><td>2.28</td></tr><tr><th>8</th><td>Gent</td><td>-Inf</td><td>-5.256</td><td>30</td><td>80.0</td><td>0.0</td></tr><tr><th>9</th><td>Liege</td><td>-Inf</td><td>-6.385</td><td>30</td><td>66.2</td><td>0.0</td></tr><tr><th>10</th><td>Loenhout</td><td>0.0</td><td>4.8</td><td>0</td><td>77.0</td><td>2.28</td></tr><tr><th>11</th><td>Mons</td><td>-Inf</td><td>-6.848</td><td>0</td><td>66.2</td><td>0.0</td></tr><tr><th>12</th><td>Namur</td><td>-Inf</td><td>-2.12</td><td>0</td><td>66.2</td><td>0.0</td></tr><tr><th>13</th><td>Petange</td><td>-Inf</td><td>-1.919</td><td>25</td><td>66.2</td><td>0.0</td></tr><tr><th>14</th><td>Peronnes</td><td>0.0</td><td>0.96</td><td>0</td><td>66.2</td><td>1.68</td></tr><tr><th>15</th><td>Sinsin</td><td>0.0</td><td>0.0</td><td>0</td><td>63.0</td><td>0.0</td></tr><tr><th>16</th><td>Voeren</td><td>20.344</td><td>22.012</td><td>50</td><td>66.2</td><td>1.68</td></tr><tr><th>17</th><td>Wanze</td><td>0.0</td><td>0.0</td><td>0</td><td>66.2</td><td>0.0</td></tr><tr><th>18</th><td>Warnand</td><td>0.0</td><td>0.0</td><td>0</td><td>66.2</td><td>0.0</td></tr><tr><th>19</th><td>Zeebrugge</td><td>8.87</td><td>11.594</td><td>0</td><td>77.0</td><td>2.28</td></tr><tr><th>20</th><td>Zomergem</td><td>0.0</td><td>0.0</td><td>0</td><td>80.0</td><td>0.0</td></tr></tbody></table>"
      ],
      "text/plain": [
       "20×6 DataFrames.DataFrame\n",
       "│ Row │ i            │ slo    │ sup     │ plo │ pup  │ c    │\n",
       "├─────┼──────────────┼────────┼─────────┼─────┼──────┼──────┤\n",
       "│ 1   │ \"Anderlues\"  │ 0.0    │ 1.2     │ 0   │ 66.2 │ 0.0  │\n",
       "│ 2   │ \"Antwerpen\"  │ -Inf   │ -4.034  │ 30  │ 80.0 │ 0.0  │\n",
       "│ 3   │ \"Arlon\"      │ -Inf   │ -0.222  │ 0   │ 66.2 │ 0.0  │\n",
       "│ 4   │ \"Berneau\"    │ 0.0    │ 0.0     │ 0   │ 66.2 │ 0.0  │\n",
       "│ 5   │ \"Blaregnies\" │ -Inf   │ -15.616 │ 50  │ 66.2 │ 0.0  │\n",
       "│ 6   │ \"Brugge\"     │ -Inf   │ -3.918  │ 30  │ 80.0 │ 0.0  │\n",
       "│ 7   │ \"Dudzele\"    │ 0.0    │ 8.4     │ 0   │ 77.0 │ 2.28 │\n",
       "│ 8   │ \"Gent\"       │ -Inf   │ -5.256  │ 30  │ 80.0 │ 0.0  │\n",
       "│ 9   │ \"Liege\"      │ -Inf   │ -6.385  │ 30  │ 66.2 │ 0.0  │\n",
       "│ 10  │ \"Loenhout\"   │ 0.0    │ 4.8     │ 0   │ 77.0 │ 2.28 │\n",
       "│ 11  │ \"Mons\"       │ -Inf   │ -6.848  │ 0   │ 66.2 │ 0.0  │\n",
       "│ 12  │ \"Namur\"      │ -Inf   │ -2.12   │ 0   │ 66.2 │ 0.0  │\n",
       "│ 13  │ \"Petange\"    │ -Inf   │ -1.919  │ 25  │ 66.2 │ 0.0  │\n",
       "│ 14  │ \"Peronnes\"   │ 0.0    │ 0.96    │ 0   │ 66.2 │ 1.68 │\n",
       "│ 15  │ \"Sinsin\"     │ 0.0    │ 0.0     │ 0   │ 63.0 │ 0.0  │\n",
       "│ 16  │ \"Voeren\"     │ 20.344 │ 22.012  │ 50  │ 66.2 │ 1.68 │\n",
       "│ 17  │ \"Wanze\"      │ 0.0    │ 0.0     │ 0   │ 66.2 │ 0.0  │\n",
       "│ 18  │ \"Warnand\"    │ 0.0    │ 0.0     │ 0   │ 66.2 │ 0.0  │\n",
       "│ 19  │ \"Zeebrugge\"  │ 8.87   │ 11.594  │ 0   │ 77.0 │ 2.28 │\n",
       "│ 20  │ \"Zomergem\"   │ 0.0    │ 0.0     │ 0   │ 80.0 │ 0.0  │"
      ]
     },
     "execution_count": 227,
     "metadata": {},
     "output_type": "execute_result"
    }
   ],
   "source": [
    "Ndata"
   ]
  },
  {
   "cell_type": "code",
   "execution_count": 228,
   "metadata": {},
   "outputs": [
    {
     "data": {
      "text/plain": [
       "24×6 Array{Any,2}:\n",
       "  1  \"Zeebrugge\"  \"Dudzele\"     890.0   4.0  0\n",
       "  2  \"Zeebrugge\"  \"Dudzele\"     890.0   4.0  0\n",
       "  3  \"Dudzele\"    \"Brugge\"      890.0   6.0  0\n",
       "  4  \"Dudzele\"    \"Brugge\"      890.0   6.0  0\n",
       "  5  \"Brugge\"     \"Zomergem\"    890.0  26.0  0\n",
       "  6  \"Loenhout\"   \"Antwerpen\"   590.1  43.0  0\n",
       "  7  \"Antwerpen\"  \"Gent\"        590.1  29.0  0\n",
       "  8  \"Gent\"       \"Zomergem\"    590.1  19.0  0\n",
       "  9  \"Zomergem\"   \"Peronnes\"    890.0  55.0  0\n",
       " 10  \"Voeren\"     \"Berneau\"     890.0   5.0  1\n",
       " 11  \"Voeren\"     \"Berneau\"     395.0   5.0  1\n",
       " 12  \"Berneau\"    \"Liege\"       890.0  20.0  0\n",
       " 13  \"Berneau\"    \"Liege\"       395.0  20.0  0\n",
       " 14  \"Liege\"      \"Warnand\"     890.0  25.0  0\n",
       " 15  \"Liege\"      \"Warnand\"     395.0  25.0  0\n",
       " 16  \"Warnand\"    \"Namur\"       890.0  42.0  0\n",
       " 17  \"Namur\"      \"Anderlues\"   890.0  40.0  0\n",
       " 18  \"Anderlues\"  \"Peronnes\"    890.0   5.0  0\n",
       " 19  \"Peronnes\"   \"Mons\"        890.0  10.0  0\n",
       " 20  \"Mons\"       \"Blaregnies\"  890.0  25.0  0\n",
       " 21  \"Warnand\"    \"Wanze\"       395.5  10.5  0\n",
       " 22  \"Wanze\"      \"Sinsin\"      315.5  26.0  1\n",
       " 23  \"Sinsin\"     \"Arlon\"       315.5  98.0  0\n",
       " 24  \"Arlon\"      \"Petange\"     315.5   6.0  0"
      ]
     },
     "execution_count": 228,
     "metadata": {},
     "output_type": "execute_result"
    }
   ],
   "source": [
    "df"
   ]
  },
  {
   "cell_type": "code",
   "execution_count": 5,
   "metadata": {
    "scrolled": true
   },
   "outputs": [
    {
     "data": {
      "text/plain": [
       "24"
      ]
     },
     "execution_count": 5,
     "metadata": {},
     "output_type": "execute_result"
    }
   ],
   "source": [
    "A = length(Adata[:a])"
   ]
  },
  {
   "cell_type": "code",
   "execution_count": 104,
   "metadata": {
    "scrolled": true
   },
   "outputs": [
    {
     "data": {
      "text/plain": [
       "0.6106"
      ]
     },
     "execution_count": 104,
     "metadata": {},
     "output_type": "execute_result"
    }
   ],
   "source": [
    "T = 281.5\n",
    "e = 0.05\n",
    "den = 0.616\n",
    "z = 0.8\n",
    "epsilon = 0.05\n",
    "delta = 0.6106"
   ]
  },
  {
   "cell_type": "code",
   "execution_count": null,
   "metadata": {
    "collapsed": true
   },
   "outputs": [],
   "source": [
    "readxl(DataFrame,\"Adata.xlsx\",\"Tabelle1!A1:F25\")"
   ]
  },
  {
   "cell_type": "markdown",
   "metadata": {},
   "source": [
    "## Calculate pipeline characteristics"
   ]
  },
  {
   "cell_type": "markdown",
   "metadata": {},
   "source": [
    "lambda(aij) = 1/sqr(2*log10(3.7*diameter(aij)/epsilon)); pipecoeff(aij) = 96.074830e-15 * (diameter(aij)**5)/ (lambda(aij)*z*T*length(aij)*delta);"
   ]
  },
  {
   "cell_type": "code",
   "execution_count": 233,
   "metadata": {},
   "outputs": [
    {
     "data": {
      "text/plain": [
       "18-element Array{SubString{String},1}:\n",
       " \"Zeebrugge\"\n",
       " \"Dudzele\"  \n",
       " \"Brugge\"   \n",
       " \"Loenhout\" \n",
       " \"Antwerpen\"\n",
       " \"Gent\"     \n",
       " \"Zomergem\" \n",
       " \"Voeren\"   \n",
       " \"Berneau\"  \n",
       " \"Liege\"    \n",
       " \"Warnand\"  \n",
       " \"Namur\"    \n",
       " \"Anderlues\"\n",
       " \"Peronnes\" \n",
       " \"Mons\"     \n",
       " \"Wanze\"    \n",
       " \"Sinsin\"   \n",
       " \"Arlon\"    "
      ]
     },
     "execution_count": 233,
     "metadata": {},
     "output_type": "execute_result"
    }
   ],
   "source": [
    "I = unique(df[:,2])"
   ]
  },
  {
   "cell_type": "code",
   "execution_count": 234,
   "metadata": {},
   "outputs": [],
   "source": [
    "lambda = Dict()\n",
    "pipecoeff = Dict()\n",
    "\n",
    "for itera in 1:size(df, 1)\n",
    "    i = df[itera,2]\n",
    "    j = df[itera,3]\n",
    "    lambda[i,j] = 1/sqrt(2*log10(3.7*df[itera,4]/epsilon))\n",
    "    pipecoeff[i,j] = 96.074830e-15 *  (df[itera,4]^5/(lambda[i,j]*z*T*df[itera,5]*delta) )\n",
    "    #di[tuple(df[i,:1:3]...)]  = df[i,4]\n",
    "    #len[tuple(df[i,:1:3]...)] = df[i,5]\n",
    "    act[tuple(df[itera,:1:3]...)] = df[itera,6]\n",
    "end\n",
    "\n"
   ]
  },
  {
   "cell_type": "code",
   "execution_count": 235,
   "metadata": {},
   "outputs": [
    {
     "data": {
      "text/plain": [
       "2×6 Array{Any,2}:\n",
       " 3  \"Dudzele\"  \"Brugge\"  890.0  6.0  0\n",
       " 4  \"Dudzele\"  \"Brugge\"  890.0  6.0  0"
      ]
     },
     "execution_count": 235,
     "metadata": {},
     "output_type": "execute_result"
    }
   ],
   "source": [
    "#df[:,3]==\"Dudzele\"\n",
    "\n",
    "#data = df\n",
    "data[data[:,2] .== \"Dudzele\", :]"
   ]
  },
  {
   "cell_type": "code",
   "execution_count": 236,
   "metadata": {},
   "outputs": [
    {
     "data": {
      "text/plain": [
       "24×6 Array{Any,2}:\n",
       "  1  \"Zeebrugge\"  \"Dudzele\"     890.0   4.0  0\n",
       "  2  \"Zeebrugge\"  \"Dudzele\"     890.0   4.0  0\n",
       "  3  \"Dudzele\"    \"Brugge\"      890.0   6.0  0\n",
       "  4  \"Dudzele\"    \"Brugge\"      890.0   6.0  0\n",
       "  5  \"Brugge\"     \"Zomergem\"    890.0  26.0  0\n",
       "  6  \"Loenhout\"   \"Antwerpen\"   590.1  43.0  0\n",
       "  7  \"Antwerpen\"  \"Gent\"        590.1  29.0  0\n",
       "  8  \"Gent\"       \"Zomergem\"    590.1  19.0  0\n",
       "  9  \"Zomergem\"   \"Peronnes\"    890.0  55.0  0\n",
       " 10  \"Voeren\"     \"Berneau\"     890.0   5.0  1\n",
       " 11  \"Voeren\"     \"Berneau\"     395.0   5.0  1\n",
       " 12  \"Berneau\"    \"Liege\"       890.0  20.0  0\n",
       " 13  \"Berneau\"    \"Liege\"       395.0  20.0  0\n",
       " 14  \"Liege\"      \"Warnand\"     890.0  25.0  0\n",
       " 15  \"Liege\"      \"Warnand\"     395.0  25.0  0\n",
       " 16  \"Warnand\"    \"Namur\"       890.0  42.0  0\n",
       " 17  \"Namur\"      \"Anderlues\"   890.0  40.0  0\n",
       " 18  \"Anderlues\"  \"Peronnes\"    890.0   5.0  0\n",
       " 19  \"Peronnes\"   \"Mons\"        890.0  10.0  0\n",
       " 20  \"Mons\"       \"Blaregnies\"  890.0  25.0  0\n",
       " 21  \"Warnand\"    \"Wanze\"       395.5  10.5  0\n",
       " 22  \"Wanze\"      \"Sinsin\"      315.5  26.0  1\n",
       " 23  \"Sinsin\"     \"Arlon\"       315.5  98.0  0\n",
       " 24  \"Arlon\"      \"Petange\"     315.5   6.0  0"
      ]
     },
     "execution_count": 236,
     "metadata": {},
     "output_type": "execute_result"
    }
   ],
   "source": [
    "df"
   ]
  },
  {
   "cell_type": "code",
   "execution_count": 237,
   "metadata": {},
   "outputs": [],
   "source": [
    "J = Dict()\n",
    "for itera in 1:size(df, 1)\n",
    "    #data[data[:,3] .== \"Dudzele\", :]\n",
    "    \n",
    "    ival = df[itera,2]\n",
    "    J[ival] = df[df[:,2] .== ival, 3]\n",
    "    #println(df[itera,3])\n",
    "end\n"
   ]
  },
  {
   "cell_type": "code",
   "execution_count": 306,
   "metadata": {},
   "outputs": [],
   "source": [
    "for i in I\n",
    "    try \n",
    "        J[i]\n",
    "    catch\n",
    "        J[i]= \"\"\n",
    "    end    \n",
    "        \n",
    "end"
   ]
  },
  {
   "cell_type": "code",
   "execution_count": 238,
   "metadata": {},
   "outputs": [
    {
     "data": {
      "text/plain": [
       "Dict{Any,Any} with 19 entries:\n",
       "  (\"Arlon\", \"Petange\")      => 0.338324\n",
       "  (\"Warnand\", \"Wanze\")      => 0.334586\n",
       "  (\"Mons\", \"Blaregnies\")    => 0.322124\n",
       "  (\"Zeebrugge\", \"Dudzele\")  => 0.322124\n",
       "  (\"Voeren\", \"Berneau\")     => 0.334606\n",
       "  (\"Peronnes\", \"Mons\")      => 0.322124\n",
       "  (\"Zomergem\", \"Peronnes\")  => 0.322124\n",
       "  (\"Gent\", \"Zomergem\")      => 0.328261\n",
       "  (\"Namur\", \"Anderlues\")    => 0.322124\n",
       "  (\"Brugge\", \"Zomergem\")    => 0.322124\n",
       "  (\"Berneau\", \"Liege\")      => 0.334606\n",
       "  (\"Antwerpen\", \"Gent\")     => 0.328261\n",
       "  (\"Dudzele\", \"Brugge\")     => 0.322124\n",
       "  (\"Wanze\", \"Sinsin\")       => 0.338324\n",
       "  (\"Loenhout\", \"Antwerpen\") => 0.328261\n",
       "  (\"Anderlues\", \"Peronnes\") => 0.322124\n",
       "  (\"Warnand\", \"Namur\")      => 0.322124\n",
       "  (\"Sinsin\", \"Arlon\")       => 0.338324\n",
       "  (\"Liege\", \"Warnand\")      => 0.334606"
      ]
     },
     "execution_count": 238,
     "metadata": {},
     "output_type": "execute_result"
    }
   ],
   "source": [
    "lambda"
   ]
  },
  {
   "cell_type": "markdown",
   "metadata": {},
   "source": [
    "# Model "
   ]
  },
  {
   "cell_type": "code",
   "execution_count": 325,
   "metadata": {},
   "outputs": [
    {
     "name": "stderr",
     "output_type": "stream",
     "text": [
      "\u001b[1m\u001b[36mINFO: \u001b[39m\u001b[22m\u001b[36mRecompiling stale cache file /Users/matthiaszech/.julia/lib/v0.6/Gurobi.ji for module Gurobi.\n",
      "\u001b[39m"
     ]
    }
   ],
   "source": [
    "using Gurobi"
   ]
  },
  {
   "cell_type": "code",
   "execution_count": 329,
   "metadata": {
    "scrolled": false
   },
   "outputs": [
    {
     "data": {
      "text/latex": [
       "$$ \\begin{alignat*}{1}\\min\\quad & 0\\\\\n",
       "\\text{Subject to} \\quad\\end{alignat*}\n",
       " $$"
      ],
      "text/plain": [
       "Feasibility problem with:\n",
       " * 0 linear constraints\n",
       " * 0 variables\n",
       "Solver is Gurobi"
      ]
     },
     "execution_count": 329,
     "metadata": {},
     "output_type": "execute_result"
    }
   ],
   "source": [
    "m = Model(solver =GurobiSolver(Presolve=0))"
   ]
  },
  {
   "cell_type": "markdown",
   "metadata": {},
   "source": [
    "## Subsets"
   ]
  },
  {
   "cell_type": "code",
   "execution_count": 346,
   "metadata": {
    "scrolled": true
   },
   "outputs": [
    {
     "data": {
      "text/html": [
       "<table class=\"data-frame\"><thead><tr><th></th><th>i</th><th>slo</th><th>sup</th><th>plo</th><th>pup</th><th>c</th></tr></thead><tbody><tr><th>1</th><td>Anderlues</td><td>0.0</td><td>1.2</td><td>0</td><td>66.2</td><td>0.0</td></tr><tr><th>2</th><td>Antwerpen</td><td>-Inf</td><td>-4.034</td><td>30</td><td>80.0</td><td>0.0</td></tr><tr><th>3</th><td>Arlon</td><td>-Inf</td><td>-0.222</td><td>0</td><td>66.2</td><td>0.0</td></tr><tr><th>4</th><td>Berneau</td><td>0.0</td><td>0.0</td><td>0</td><td>66.2</td><td>0.0</td></tr><tr><th>5</th><td>Blaregnies</td><td>-Inf</td><td>-15.616</td><td>50</td><td>66.2</td><td>0.0</td></tr><tr><th>6</th><td>Brugge</td><td>-Inf</td><td>-3.918</td><td>30</td><td>80.0</td><td>0.0</td></tr></tbody></table>"
      ],
      "text/plain": [
       "6×6 DataFrames.DataFrame\n",
       "│ Row │ i            │ slo  │ sup     │ plo │ pup  │ c   │\n",
       "├─────┼──────────────┼──────┼─────────┼─────┼──────┼─────┤\n",
       "│ 1   │ \"Anderlues\"  │ 0.0  │ 1.2     │ 0   │ 66.2 │ 0.0 │\n",
       "│ 2   │ \"Antwerpen\"  │ -Inf │ -4.034  │ 30  │ 80.0 │ 0.0 │\n",
       "│ 3   │ \"Arlon\"      │ -Inf │ -0.222  │ 0   │ 66.2 │ 0.0 │\n",
       "│ 4   │ \"Berneau\"    │ 0.0  │ 0.0     │ 0   │ 66.2 │ 0.0 │\n",
       "│ 5   │ \"Blaregnies\" │ -Inf │ -15.616 │ 50  │ 66.2 │ 0.0 │\n",
       "│ 6   │ \"Brugge\"     │ -Inf │ -3.918  │ 30  │ 80.0 │ 0.0 │"
      ]
     },
     "execution_count": 346,
     "metadata": {},
     "output_type": "execute_result"
    }
   ],
   "source": [
    "head(Ndata)"
   ]
  },
  {
   "cell_type": "code",
   "execution_count": 354,
   "metadata": {},
   "outputs": [
    {
     "data": {
      "text/plain": [
       "6-element DataArrays.DataArray{String,1}:\n",
       " \"Anderlues\"\n",
       " \"Dudzele\"  \n",
       " \"Loenhout\" \n",
       " \"Peronnes\" \n",
       " \"Voeren\"   \n",
       " \"Zeebrugge\""
      ]
     },
     "execution_count": 354,
     "metadata": {},
     "output_type": "execute_result"
    }
   ],
   "source": [
    "i_sup = Ndata[Ndata[:sup] .>0, :i] # supply nodes"
   ]
  },
  {
   "cell_type": "code",
   "execution_count": 357,
   "metadata": {},
   "outputs": [
    {
     "data": {
      "text/html": [
       "<table class=\"data-frame\"><thead><tr><th></th><th>a</th><th>i</th><th>j</th><th>D</th><th>L</th><th>act</th></tr></thead><tbody><tr><th>1</th><td>1</td><td>Zeebrugge</td><td>Dudzele</td><td>890.0</td><td>4.0</td><td>0</td></tr><tr><th>2</th><td>2</td><td>Zeebrugge</td><td>Dudzele</td><td>890.0</td><td>4.0</td><td>0</td></tr><tr><th>3</th><td>3</td><td>Dudzele</td><td>Brugge</td><td>890.0</td><td>6.0</td><td>0</td></tr><tr><th>4</th><td>4</td><td>Dudzele</td><td>Brugge</td><td>890.0</td><td>6.0</td><td>0</td></tr><tr><th>5</th><td>5</td><td>Brugge</td><td>Zomergem</td><td>890.0</td><td>26.0</td><td>0</td></tr><tr><th>6</th><td>6</td><td>Loenhout</td><td>Antwerpen</td><td>590.1</td><td>43.0</td><td>0</td></tr></tbody></table>"
      ],
      "text/plain": [
       "6×6 DataFrames.DataFrame\n",
       "│ Row │ a │ i           │ j           │ D     │ L    │ act │\n",
       "├─────┼───┼─────────────┼─────────────┼───────┼──────┼─────┤\n",
       "│ 1   │ 1 │ \"Zeebrugge\" │ \"Dudzele\"   │ 890.0 │ 4.0  │ 0   │\n",
       "│ 2   │ 2 │ \"Zeebrugge\" │ \"Dudzele\"   │ 890.0 │ 4.0  │ 0   │\n",
       "│ 3   │ 3 │ \"Dudzele\"   │ \"Brugge\"    │ 890.0 │ 6.0  │ 0   │\n",
       "│ 4   │ 4 │ \"Dudzele\"   │ \"Brugge\"    │ 890.0 │ 6.0  │ 0   │\n",
       "│ 5   │ 5 │ \"Brugge\"    │ \"Zomergem\"  │ 890.0 │ 26.0 │ 0   │\n",
       "│ 6   │ 6 │ \"Loenhout\"  │ \"Antwerpen\" │ 590.1 │ 43.0 │ 0   │"
      ]
     },
     "execution_count": 357,
     "metadata": {},
     "output_type": "execute_result"
    }
   ],
   "source": [
    "head(Adata)"
   ]
  },
  {
   "cell_type": "code",
   "execution_count": 360,
   "metadata": {},
   "outputs": [
    {
     "data": {
      "text/plain": [
       "3-element DataArrays.DataArray{String,1}:\n",
       " \"Voeren\"\n",
       " \"Voeren\"\n",
       " \"Wanze\" "
      ]
     },
     "execution_count": 360,
     "metadata": {},
     "output_type": "execute_result"
    }
   ],
   "source": [
    "active_a = Adata[Adata[:act] .== 1, :2] #active points"
   ]
  },
  {
   "cell_type": "markdown",
   "metadata": {},
   "source": [
    "## Variables"
   ]
  },
  {
   "cell_type": "code",
   "execution_count": 332,
   "metadata": {},
   "outputs": [
    {
     "data": {
      "text/latex": [
       "$$ f_{i,j} \\geq 0 \\quad\\forall i \\in \\{Anderlues,Antwerpen,\\dots,Zeebrugge,Zomergem\\}, j \\in \\{Anderlues,Antwerpen,\\dots,Zeebrugge,Zomergem\\} $$"
      ],
      "text/plain": [
       "f[i,j] ≥ 0 ∀ i ∈ {Anderlues,Antwerpen,…,Zeebrugge,Zomergem}, j ∈ {Anderlues,Antwerpen,…,Zeebrugge,Zomergem}"
      ]
     },
     "execution_count": 332,
     "metadata": {},
     "output_type": "execute_result"
    }
   ],
   "source": [
    "@variable(m, f[I, I] >= 0 ) # f_a,i,j , "
   ]
  },
  {
   "cell_type": "code",
   "execution_count": 333,
   "metadata": {
    "scrolled": true
   },
   "outputs": [
    {
     "data": {
      "text/latex": [
       "$$ s_{i} \\geq 0 \\quad\\forall i \\in \\{Anderlues,Antwerpen,\\dots,Zeebrugge,Zomergem\\} $$"
      ],
      "text/plain": [
       "s[i] ≥ 0 ∀ i ∈ {Anderlues,Antwerpen,…,Zeebrugge,Zomergem}"
      ]
     },
     "execution_count": 333,
     "metadata": {},
     "output_type": "execute_result"
    }
   ],
   "source": [
    "@variable(m, s[I] >= 0 ) # s_a,i,j, supply demand"
   ]
  },
  {
   "cell_type": "code",
   "execution_count": 334,
   "metadata": {},
   "outputs": [
    {
     "data": {
      "text/latex": [
       "$$ pi_{i} \\geq 0 \\quad\\forall i \\in \\{Anderlues,Antwerpen,\\dots,Zeebrugge,Zomergem\\} $$"
      ],
      "text/plain": [
       "pi[i] ≥ 0 ∀ i ∈ {Anderlues,Antwerpen,…,Zeebrugge,Zomergem}"
      ]
     },
     "execution_count": 334,
     "metadata": {},
     "output_type": "execute_result"
    }
   ],
   "source": [
    "@variable(m, pi[I] >= 0 ) #squared pressure"
   ]
  },
  {
   "cell_type": "code",
   "execution_count": 335,
   "metadata": {},
   "outputs": [
    {
     "data": {
      "text/latex": [
       "$$ sc $$"
      ],
      "text/plain": [
       "sc"
      ]
     },
     "execution_count": 335,
     "metadata": {},
     "output_type": "execute_result"
    }
   ],
   "source": [
    "@variable(m, sc >= 0 )"
   ]
  },
  {
   "cell_type": "code",
   "execution_count": 336,
   "metadata": {},
   "outputs": [
    {
     "data": {
      "text/latex": [
       "$$ \\begin{alignat*}{1}\\min\\quad & 0\\\\\n",
       "\\text{Subject to} \\quad & f_{i,j} \\geq 0 \\quad\\forall i \\in \\{Anderlues,Antwerpen,\\dots,Zeebrugge,Zomergem\\}, j \\in \\{Anderlues,Antwerpen,\\dots,Zeebrugge,Zomergem\\}\\\\\n",
       " & s_{i} \\geq 0 \\quad\\forall i \\in \\{Anderlues,Antwerpen,\\dots,Zeebrugge,Zomergem\\}\\\\\n",
       " & pi_{i} \\geq 0 \\quad\\forall i \\in \\{Anderlues,Antwerpen,\\dots,Zeebrugge,Zomergem\\}\\\\\n",
       " & sc \\geq 0\\\\\n",
       "\\end{alignat*}\n",
       " $$"
      ],
      "text/plain": [
       "Feasibility problem with:\n",
       " * 0 linear constraints\n",
       " * 441 variables\n",
       "Solver is Gurobi"
      ]
     },
     "execution_count": 336,
     "metadata": {},
     "output_type": "execute_result"
    }
   ],
   "source": [
    "m"
   ]
  },
  {
   "cell_type": "markdown",
   "metadata": {},
   "source": [
    "## Objective"
   ]
  },
  {
   "cell_type": "code",
   "execution_count": null,
   "metadata": {
    "collapsed": true
   },
   "outputs": [],
   "source": [
    "@objective(m, Min, sum(s[i] * c[i] for i= I ) )"
   ]
  },
  {
   "cell_type": "markdown",
   "metadata": {},
   "source": [
    "## Constraints"
   ]
  },
  {
   "cell_type": "markdown",
   "metadata": {},
   "source": [
    "\n",
    "Equations \n",
    "* flowbalance(i)    flow conservation\n",
    "* weymouthp(a,i,j)  flow pressure relationship - passive\n",
    "* weymoutha(a,i,j)  flow pressure relationship - active\n",
    "* defsc             definition of supply cost\n"
   ]
  },
  {
   "cell_type": "code",
   "execution_count": 337,
   "metadata": {
    "scrolled": true
   },
   "outputs": [
    {
     "data": {
      "text/plain": [
       "24×6 Array{Any,2}:\n",
       "  1  \"Zeebrugge\"  \"Dudzele\"     890.0   4.0  0\n",
       "  2  \"Zeebrugge\"  \"Dudzele\"     890.0   4.0  0\n",
       "  3  \"Dudzele\"    \"Brugge\"      890.0   6.0  0\n",
       "  4  \"Dudzele\"    \"Brugge\"      890.0   6.0  0\n",
       "  5  \"Brugge\"     \"Zomergem\"    890.0  26.0  0\n",
       "  6  \"Loenhout\"   \"Antwerpen\"   590.1  43.0  0\n",
       "  7  \"Antwerpen\"  \"Gent\"        590.1  29.0  0\n",
       "  8  \"Gent\"       \"Zomergem\"    590.1  19.0  0\n",
       "  9  \"Zomergem\"   \"Peronnes\"    890.0  55.0  0\n",
       " 10  \"Voeren\"     \"Berneau\"     890.0   5.0  1\n",
       " 11  \"Voeren\"     \"Berneau\"     395.0   5.0  1\n",
       " 12  \"Berneau\"    \"Liege\"       890.0  20.0  0\n",
       " 13  \"Berneau\"    \"Liege\"       395.0  20.0  0\n",
       " 14  \"Liege\"      \"Warnand\"     890.0  25.0  0\n",
       " 15  \"Liege\"      \"Warnand\"     395.0  25.0  0\n",
       " 16  \"Warnand\"    \"Namur\"       890.0  42.0  0\n",
       " 17  \"Namur\"      \"Anderlues\"   890.0  40.0  0\n",
       " 18  \"Anderlues\"  \"Peronnes\"    890.0   5.0  0\n",
       " 19  \"Peronnes\"   \"Mons\"        890.0  10.0  0\n",
       " 20  \"Mons\"       \"Blaregnies\"  890.0  25.0  0\n",
       " 21  \"Warnand\"    \"Wanze\"       395.5  10.5  0\n",
       " 22  \"Wanze\"      \"Sinsin\"      315.5  26.0  1\n",
       " 23  \"Sinsin\"     \"Arlon\"       315.5  98.0  0\n",
       " 24  \"Arlon\"      \"Petange\"     315.5   6.0  0"
      ]
     },
     "execution_count": 337,
     "metadata": {},
     "output_type": "execute_result"
    }
   ],
   "source": [
    "parMatrix = readdlm(\"Adata.csv\", ';',skipstart=1);\n",
    "parMatrix"
   ]
  },
  {
   "cell_type": "code",
   "execution_count": 338,
   "metadata": {
    "collapsed": true
   },
   "outputs": [],
   "source": [
    "df = parMatrix\n",
    "di = Dict() #diameter\n",
    "len = Dict() #length\n",
    "act = Dict() #active pipeline\n",
    "\n",
    "\n",
    "for i in 1:size(df, 1)\n",
    "    #println(tuple(df[i, :]...))\n",
    "    di[tuple(df[i,:1:3]...)]  = df[i,4]\n",
    "    len[tuple(df[i,:1:3]...)] = df[i,5]\n",
    "    act[tuple(df[i,:1:3]...)] = df[i,6]\n",
    "end"
   ]
  },
  {
   "cell_type": "code",
   "execution_count": 339,
   "metadata": {},
   "outputs": [],
   "source": [
    "# node balance\n",
    "for i in I\n",
    "    @constraint(m, sum(f[i,j] for j = J[i] if i!=j) == \n",
    "                sum(f[j,i]  for j = J[i] if i!=j) + s[i])\n",
    "end"
   ]
  },
  {
   "cell_type": "code",
   "execution_count": 340,
   "metadata": {
    "scrolled": true
   },
   "outputs": [],
   "source": [
    "# passive\n",
    "for i in I\n",
    "    try\n",
    "        for j in J[i]\n",
    "            if i!=j\n",
    "                @constraint(m, f[i, j] == pipecoeff[i, j] * (pi[i] - pi[j]) ) ;\n",
    "            end\n",
    "        end\n",
    "    end\n",
    "end"
   ]
  },
  {
   "cell_type": "code",
   "execution_count": 341,
   "metadata": {
    "collapsed": true
   },
   "outputs": [],
   "source": [
    "# active\n",
    "for i in I\n",
    "    try\n",
    "        for j in J[i]\n",
    "            if i!=j\n",
    "                @constraint(m, f[i, j] >= pipecoeff[i, j] * (pi[i] - pi[j]) ) ;\n",
    "            end\n",
    "        end\n",
    "    end\n",
    "end"
   ]
  },
  {
   "cell_type": "code",
   "execution_count": null,
   "metadata": {
    "collapsed": true
   },
   "outputs": [],
   "source": []
  },
  {
   "cell_type": "code",
   "execution_count": 342,
   "metadata": {},
   "outputs": [
    {
     "name": "stdout",
     "output_type": "stream",
     "text": [
      "Academic license - for non-commercial use only\n",
      "Optimize a model with 68 rows, 441 columns and 202 nonzeros\n",
      "Coefficient statistics:\n",
      "  Matrix range     [7e-05, 2e+00]\n",
      "  Objective range  [0e+00, 0e+00]\n",
      "  Bounds range     [0e+00, 0e+00]\n",
      "  RHS range        [0e+00, 0e+00]\n",
      "Iteration    Objective       Primal Inf.    Dual Inf.      Time\n",
      "       0    0.0000000e+00   0.000000e+00   0.000000e+00      0s\n",
      "\n",
      "Solved in 0 iterations and 0.01 seconds\n",
      "Optimal objective  0.000000000e+00\n"
     ]
    },
    {
     "data": {
      "text/plain": [
       ":Optimal"
      ]
     },
     "execution_count": 342,
     "metadata": {},
     "output_type": "execute_result"
    }
   ],
   "source": [
    "status = solve(m)\n"
   ]
  },
  {
   "cell_type": "code",
   "execution_count": null,
   "metadata": {
    "collapsed": true
   },
   "outputs": [],
   "source": []
  },
  {
   "cell_type": "code",
   "execution_count": 124,
   "metadata": {},
   "outputs": [
    {
     "ename": "LoadError",
     "evalue": "\u001b[91msyntax: missing separator in array expression\u001b[39m",
     "output_type": "error",
     "traceback": [
      "\u001b[91msyntax: missing separator in array expression\u001b[39m",
      "",
      "Stacktrace:",
      " [1] \u001b[1minclude_string\u001b[22m\u001b[22m\u001b[1m(\u001b[22m\u001b[22m::String, ::String\u001b[1m)\u001b[22m\u001b[22m at \u001b[1m./loading.jl:515\u001b[22m\u001b[22m"
     ]
    }
   ],
   "source": [
    "#@constraint(m, [i=I, j=I if i!=j], \n",
    "#    sum(f[i,j]  ) == sum(f[j,i] + s[i]))"
   ]
  },
  {
   "cell_type": "code",
   "execution_count": 125,
   "metadata": {},
   "outputs": [
    {
     "data": {
      "text/latex": [
       "$$ \\begin{alignat*}{1}\\min\\quad & 0\\\\\n",
       "\\text{Subject to} \\quad & -19 s_{Anderlues} - 19 s_{Antwerpen} - 19 s_{Arlon} - 19 s_{Berneau} - 19 s_{Blaregnies} - 19 s_{Brugge} - 19 s_{Dudzele} - 19 s_{Gent} - 19 s_{Liege} - 19 s_{Loenhout} - 19 s_{Mons} - 19 s_{Namur} - 19 s_{Petange} - 19 s_{Peronnes} - 19 s_{Sinsin} - 19 s_{Voeren} - 19 s_{Wanze} - 19 s_{Warnand} - 19 s_{Zeebrugge} - 19 s_{Zomergem} = 0\\\\\n",
       " & f_{i,j} \\geq 0 \\quad\\forall i \\in \\{Anderlues,Antwerpen,\\dots,Zeebrugge,Zomergem\\}, j \\in \\{Anderlues,Antwerpen,\\dots,Zeebrugge,Zomergem\\}\\\\\n",
       " & s_{i} \\geq 0 \\quad\\forall i \\in \\{Anderlues,Antwerpen,\\dots,Zeebrugge,Zomergem\\}\\\\\n",
       " & pi_{i} \\geq 0 \\quad\\forall i \\in \\{Anderlues,Antwerpen,\\dots,Zeebrugge,Zomergem\\}\\\\\n",
       " & sc \\geq 0\\\\\n",
       "\\end{alignat*}\n",
       " $$"
      ],
      "text/plain": [
       "Feasibility problem with:\n",
       " * 1 linear constraint\n",
       " * 441 variables\n",
       "Solver is default solver"
      ]
     },
     "execution_count": 125,
     "metadata": {},
     "output_type": "execute_result"
    }
   ],
   "source": [
    "m"
   ]
  },
  {
   "cell_type": "code",
   "execution_count": 77,
   "metadata": {},
   "outputs": [
    {
     "data": {
      "text/latex": [
       "$$ f_{Antwerpen,Antwerpen} $$"
      ],
      "text/plain": [
       "f[Antwerpen,Antwerpen]"
      ]
     },
     "execution_count": 77,
     "metadata": {},
     "output_type": "execute_result"
    }
   ],
   "source": [
    "f[\"Antwerpen\",\"Antwerpen\"]"
   ]
  },
  {
   "cell_type": "code",
   "execution_count": 17,
   "metadata": {
    "collapsed": true,
    "scrolled": true
   },
   "outputs": [],
   "source": [
    "# node balance\n",
    "\n",
    "for i = 1:n\n",
    "    2+\"a\"\n",
    "    # @constraint(m, x[i,i] == 0)\n",
    "    for j = 1:n\n",
    "        if i!=j\n",
    "            @constraint(m, f[i,j] == f[j,i] + s[i])\n",
    "        end if\n",
    "    end\n",
    "end\n",
    "\n",
    "\n",
    "\n",
    "#@constraint(m, sum(f[a,i,j] for a=1:A for i in I for j in I ) == \n",
    "                1);\n",
    "\n",
    "#@constraint(m, sum(a[i] for i=1:numLocation) == cost)"
   ]
  },
  {
   "cell_type": "code",
   "execution_count": 18,
   "metadata": {},
   "outputs": [
    {
     "data": {
      "text/plain": [
       "24"
      ]
     },
     "execution_count": 18,
     "metadata": {},
     "output_type": "execute_result"
    }
   ],
   "source": [
    "A"
   ]
  },
  {
   "cell_type": "markdown",
   "metadata": {},
   "source": [
    "# Garbage"
   ]
  },
  {
   "cell_type": "code",
   "execution_count": 19,
   "metadata": {},
   "outputs": [
    {
     "data": {
      "text/plain": [
       "([0.738953, 0.446618, 0.255839, 0.536744, 0.892265], [0.450107, 0.34563, 0.290102, 0.319516, 0.0827698], [0.478546, 0.129584, 0.845988, 0.613271, 0.835391], [0.595063, 0.424116, 0.864113, 0.632541, 0.185115])"
      ]
     },
     "execution_count": 19,
     "metadata": {},
     "output_type": "execute_result"
    }
   ],
   "source": [
    "function fa{T<:Any}(A::Array{T,2})\n",
    "    return tuple([A[c,:] for c in 1:size(A,1)]...)\n",
    "end\n",
    "\n",
    "A = rand(4,5)\n",
    "tup = fa(A)"
   ]
  }
 ],
 "metadata": {
  "kernelspec": {
   "display_name": "Julia 0.6.0",
   "language": "julia",
   "name": "julia-0.6"
  },
  "language_info": {
   "file_extension": ".jl",
   "mimetype": "application/julia",
   "name": "julia",
   "version": "0.6.0"
  },
  "toc": {
   "colors": {
    "hover_highlight": "#DAA520",
    "running_highlight": "#FF0000",
    "selected_highlight": "#FFD700"
   },
   "moveMenuLeft": true,
   "nav_menu": {
    "height": "12px",
    "width": "252px"
   },
   "navigate_menu": true,
   "number_sections": true,
   "sideBar": true,
   "threshold": 4,
   "toc_cell": false,
   "toc_section_display": "block",
   "toc_window_display": false,
   "widenNotebook": false
  }
 },
 "nbformat": 4,
 "nbformat_minor": 2
}

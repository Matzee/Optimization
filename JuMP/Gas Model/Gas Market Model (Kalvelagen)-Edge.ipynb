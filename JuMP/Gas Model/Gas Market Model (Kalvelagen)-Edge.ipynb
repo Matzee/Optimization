{
 "cells": [
  {
   "cell_type": "markdown",
   "metadata": {},
   "source": [
    "##### Formulation of the GAMS model in JuMP from \n",
    "###### AN IMPROVED FORMULATION FOR A GAS TRANSPORTATION PROBLEM  (ERWIN KALVELAGEN)\n",
    "###### https://www.researchgate.net/publication/2568197_An_Improved_Formulation_For_A_Gas_Transportation_Problem"
   ]
  },
  {
   "cell_type": "markdown",
   "metadata": {},
   "source": [
    "##### Further information on JuMP: \n",
    "https://arxiv.org/pdf/1508.01982.pdf"
   ]
  },
  {
   "cell_type": "markdown",
   "metadata": {},
   "source": [
    "# Read data and Data cleaning"
   ]
  },
  {
   "cell_type": "code",
   "execution_count": 1,
   "metadata": {
    "collapsed": true
   },
   "outputs": [],
   "source": [
    "using DataFrames\n",
    "using JuMP\n",
    "#using ExcelReaders"
   ]
  },
  {
   "cell_type": "code",
   "execution_count": 2,
   "metadata": {
    "scrolled": false
   },
   "outputs": [
    {
     "data": {
      "text/html": [
       "<table class=\"data-frame\"><thead><tr><th></th><th>x</th><th>slo</th><th>sup</th><th>plo</th><th>pup</th><th>c</th></tr></thead><tbody><tr><th>1</th><td>Anderlues</td><td>0.0</td><td>1.2</td><td>0</td><td>66.2</td><td>1.68</td></tr><tr><th>2</th><td>Antwerpen</td><td>-Inf</td><td>-4.034</td><td>30</td><td>80.0</td><td>0.0</td></tr><tr><th>3</th><td>Arlon</td><td>-Inf</td><td>-0.222</td><td>0</td><td>66.2</td><td>0.0</td></tr><tr><th>4</th><td>Berneau</td><td>0.0</td><td>0.0</td><td>0</td><td>66.2</td><td>0.0</td></tr><tr><th>5</th><td>Blaregnies</td><td>-Inf</td><td>-15.616</td><td>50</td><td>66.2</td><td>0.0</td></tr><tr><th>6</th><td>Brugge</td><td>-Inf</td><td>-3.918</td><td>30</td><td>80.0</td><td>0.0</td></tr></tbody></table>"
      ],
      "text/plain": [
       "6×6 DataFrames.DataFrame\n",
       "│ Row │ x            │ slo  │ sup     │ plo │ pup  │ c    │\n",
       "├─────┼──────────────┼──────┼─────────┼─────┼──────┼──────┤\n",
       "│ 1   │ \"Anderlues\"  │ 0.0  │ 1.2     │ 0   │ 66.2 │ 1.68 │\n",
       "│ 2   │ \"Antwerpen\"  │ -Inf │ -4.034  │ 30  │ 80.0 │ 0.0  │\n",
       "│ 3   │ \"Arlon\"      │ -Inf │ -0.222  │ 0   │ 66.2 │ 0.0  │\n",
       "│ 4   │ \"Berneau\"    │ 0.0  │ 0.0     │ 0   │ 66.2 │ 0.0  │\n",
       "│ 5   │ \"Blaregnies\" │ -Inf │ -15.616 │ 50  │ 66.2 │ 0.0  │\n",
       "│ 6   │ \"Brugge\"     │ -Inf │ -3.918  │ 30  │ 80.0 │ 0.0  │"
      ]
     },
     "execution_count": 2,
     "metadata": {},
     "output_type": "execute_result"
    }
   ],
   "source": [
    "Ndata = readtable(\"Ndata.csv\", separator=';') # node data\n",
    "head(Ndata)"
   ]
  },
  {
   "cell_type": "code",
   "execution_count": 3,
   "metadata": {
    "scrolled": false
   },
   "outputs": [
    {
     "data": {
      "text/html": [
       "<table class=\"data-frame\"><thead><tr><th></th><th>a</th><th>i</th><th>j</th><th>D</th><th>L</th><th>act</th></tr></thead><tbody><tr><th>1</th><td>1</td><td>Zeebrugge</td><td>Dudzele</td><td>890.0</td><td>4.0</td><td>0</td></tr><tr><th>2</th><td>2</td><td>Zeebrugge</td><td>Dudzele</td><td>890.0</td><td>4.0</td><td>0</td></tr><tr><th>3</th><td>3</td><td>Dudzele</td><td>Brugge</td><td>890.0</td><td>6.0</td><td>0</td></tr><tr><th>4</th><td>4</td><td>Dudzele</td><td>Brugge</td><td>890.0</td><td>6.0</td><td>0</td></tr><tr><th>5</th><td>5</td><td>Brugge</td><td>Zomergem</td><td>890.0</td><td>26.0</td><td>0</td></tr><tr><th>6</th><td>6</td><td>Loenhout</td><td>Antwerpen</td><td>590.1</td><td>43.0</td><td>0</td></tr></tbody></table>"
      ],
      "text/plain": [
       "6×6 DataFrames.DataFrame\n",
       "│ Row │ a │ i           │ j           │ D     │ L    │ act │\n",
       "├─────┼───┼─────────────┼─────────────┼───────┼──────┼─────┤\n",
       "│ 1   │ 1 │ \"Zeebrugge\" │ \"Dudzele\"   │ 890.0 │ 4.0  │ 0   │\n",
       "│ 2   │ 2 │ \"Zeebrugge\" │ \"Dudzele\"   │ 890.0 │ 4.0  │ 0   │\n",
       "│ 3   │ 3 │ \"Dudzele\"   │ \"Brugge\"    │ 890.0 │ 6.0  │ 0   │\n",
       "│ 4   │ 4 │ \"Dudzele\"   │ \"Brugge\"    │ 890.0 │ 6.0  │ 0   │\n",
       "│ 5   │ 5 │ \"Brugge\"    │ \"Zomergem\"  │ 890.0 │ 26.0 │ 0   │\n",
       "│ 6   │ 6 │ \"Loenhout\"  │ \"Antwerpen\" │ 590.1 │ 43.0 │ 0   │"
      ]
     },
     "execution_count": 3,
     "metadata": {},
     "output_type": "execute_result"
    }
   ],
   "source": [
    "Adata = readtable(\"Adata.csv\", separator=';') # line data\n",
    "head(Adata)"
   ]
  },
  {
   "cell_type": "markdown",
   "metadata": {},
   "source": [
    "## Constants"
   ]
  },
  {
   "cell_type": "code",
   "execution_count": 6,
   "metadata": {
    "collapsed": true,
    "scrolled": true
   },
   "outputs": [],
   "source": [
    "T = 281.5\n",
    "z = 0.8\n",
    "epsilon = 0.05\n",
    "delta = 0.6106;"
   ]
  },
  {
   "cell_type": "markdown",
   "metadata": {},
   "source": [
    "## Read edge data\n",
    "### Calculate pipeline characteristics"
   ]
  },
  {
   "cell_type": "markdown",
   "metadata": {},
   "source": [
    "$$ lambda_{aij} = \\frac {1} { \\frac {\\sqrt{2* \\log_{10}*3.7*diameter_{aij}}} {epsilon}}  $$\n",
    "\n",
    "$$ pipecoeff_{aij} = 96.074830*10^{-15} * \\frac {diameter_{aij}^5 } { lambda_{aij}*z*T*length_{aij}*delta) } $$"
   ]
  },
  {
   "cell_type": "markdown",
   "metadata": {},
   "source": [
    "### Define gas pipeline network as graph with edges "
   ]
  },
  {
   "cell_type": "markdown",
   "metadata": {},
   "source": [
    "Network is respected as a Graph $G (N,E) $ with N set of nodes and the set of edges $E \\subseteq N x N $ \n"
   ]
  },
  {
   "cell_type": "markdown",
   "metadata": {},
   "source": [
    "$e_{a,i,j}$ reprents one arc a from node i to node j\n",
    "\n",
    "Because there exists lines from the same node i to node j, the set a is necessary\n",
    "###### JuMP implementation following partly https://arxiv.org/pdf/1508.01982.pdf p.6\n",
    "\n"
   ]
  },
  {
   "cell_type": "code",
   "execution_count": 7,
   "metadata": {},
   "outputs": [
    {
     "data": {
      "text/html": [
       "<table class=\"data-frame\"><thead><tr><th></th><th>a</th><th>i</th><th>j</th><th>D</th><th>L</th><th>act</th></tr></thead><tbody><tr><th>1</th><td>1</td><td>Zeebrugge</td><td>Dudzele</td><td>890.0</td><td>4.0</td><td>0</td></tr><tr><th>2</th><td>2</td><td>Zeebrugge</td><td>Dudzele</td><td>890.0</td><td>4.0</td><td>0</td></tr><tr><th>3</th><td>3</td><td>Dudzele</td><td>Brugge</td><td>890.0</td><td>6.0</td><td>0</td></tr><tr><th>4</th><td>4</td><td>Dudzele</td><td>Brugge</td><td>890.0</td><td>6.0</td><td>0</td></tr><tr><th>5</th><td>5</td><td>Brugge</td><td>Zomergem</td><td>890.0</td><td>26.0</td><td>0</td></tr><tr><th>6</th><td>6</td><td>Loenhout</td><td>Antwerpen</td><td>590.1</td><td>43.0</td><td>0</td></tr></tbody></table>"
      ],
      "text/plain": [
       "6×6 DataFrames.DataFrame\n",
       "│ Row │ a │ i           │ j           │ D     │ L    │ act │\n",
       "├─────┼───┼─────────────┼─────────────┼───────┼──────┼─────┤\n",
       "│ 1   │ 1 │ \"Zeebrugge\" │ \"Dudzele\"   │ 890.0 │ 4.0  │ 0   │\n",
       "│ 2   │ 2 │ \"Zeebrugge\" │ \"Dudzele\"   │ 890.0 │ 4.0  │ 0   │\n",
       "│ 3   │ 3 │ \"Dudzele\"   │ \"Brugge\"    │ 890.0 │ 6.0  │ 0   │\n",
       "│ 4   │ 4 │ \"Dudzele\"   │ \"Brugge\"    │ 890.0 │ 6.0  │ 0   │\n",
       "│ 5   │ 5 │ \"Brugge\"    │ \"Zomergem\"  │ 890.0 │ 26.0 │ 0   │\n",
       "│ 6   │ 6 │ \"Loenhout\"  │ \"Antwerpen\" │ 590.1 │ 43.0 │ 0   │"
      ]
     },
     "execution_count": 7,
     "metadata": {},
     "output_type": "execute_result"
    }
   ],
   "source": [
    "head(Adata)"
   ]
  },
  {
   "cell_type": "markdown",
   "metadata": {},
   "source": [
    "formulas from\n",
    "http://citeseerx.ist.psu.edu/viewdoc/download?doi=10.1.1.14.5465&rep=rep1&type=pdf"
   ]
  },
  {
   "cell_type": "code",
   "execution_count": 8,
   "metadata": {
    "scrolled": true
   },
   "outputs": [
    {
     "data": {
      "text/plain": [
       "24-element Array{Any,1}:\n",
       " Edge(1, \"Zeebrugge\", \"Dudzele\", 9.059, 0)    \n",
       " Edge(2, \"Zeebrugge\", \"Dudzele\", 9.059, 0)    \n",
       " Edge(3, \"Dudzele\", \"Brugge\", 6.03933, 0)     \n",
       " Edge(4, \"Dudzele\", \"Brugge\", 6.03933, 0)     \n",
       " Edge(5, \"Brugge\", \"Zomergem\", 1.39369, 0)    \n",
       " Edge(6, \"Loenhout\", \"Antwerpen\", 0.100131, 0)\n",
       " Edge(7, \"Antwerpen\", \"Gent\", 0.14847, 0)     \n",
       " Edge(8, \"Gent\", \"Zomergem\", 0.226613, 0)     \n",
       " Edge(9, \"Zomergem\", \"Peronnes\", 0.658836, 0) \n",
       " Edge(10, \"Voeren\", \"Berneau\", 7.2472, 1)     \n",
       " Edge(11, \"Voeren\", \"Berneau\", 0.107192, 1)   \n",
       " Edge(12, \"Berneau\", \"Liege\", 1.8118, 0)      \n",
       " Edge(13, \"Berneau\", \"Liege\", 0.0267981, 0)   \n",
       " Edge(14, \"Liege\", \"Warnand\", 1.44944, 0)     \n",
       " Edge(15, \"Liege\", \"Warnand\", 0.0214385, 0)   \n",
       " Edge(16, \"Warnand\", \"Namur\", 0.862762, 0)    \n",
       " Edge(17, \"Namur\", \"Anderlues\", 0.9059, 0)    \n",
       " Edge(18, \"Anderlues\", \"Peronnes\", 7.2472, 0) \n",
       " Edge(19, \"Peronnes\", \"Mons\", 3.6236, 0)      \n",
       " Edge(20, \"Mons\", \"Blaregnies\", 1.44944, 0)   \n",
       " Edge(21, \"Warnand\", \"Wanze\", 0.0513805, 0)   \n",
       " Edge(22, \"Wanze\", \"Sinsin\", 0.00641179, 1)   \n",
       " Edge(23, \"Sinsin\", \"Arlon\", 0.00170109, 0)   \n",
       " Edge(24, \"Arlon\", \"Petange\", 0.0277844, 0)   "
      ]
     },
     "execution_count": 8,
     "metadata": {},
     "output_type": "execute_result"
    }
   ],
   "source": [
    "df = Adata\n",
    "\n",
    "immutable Edge\n",
    "    route; from; to; pipecoeff; active\n",
    "end\n",
    "\n",
    "edges = []\n",
    "active_edges = []\n",
    "passive_edges = []\n",
    "\n",
    "for itera in 1:size(df, 1)\n",
    "    a = df[itera,:1] #set route\n",
    "    i = df[itera,:2] #set start node\n",
    "    j = df[itera,:3] #set end node\n",
    "    d = df[itera,:4] #diameter\n",
    "    l = df[itera,:5] #length\n",
    "    act = df[itera,:6] #active? --> compressor\n",
    "    lambda = 1/(2*log10(3.7*d/epsilon))^2 #\n",
    "    pipecoeff = 96.074830e-15 *  (d^5/(lambda*z*T*l*delta) )\n",
    "\n",
    "    push!(edges,Edge(a,i,j,pipecoeff,act))\n",
    "    \n",
    "    if act==1\n",
    "        push!(active_edges,Edge(a,i,j,pipecoeff,act))\n",
    "    else\n",
    "        push!(passive_edges,Edge(a,i,j,pipecoeff,act))\n",
    "    end\n",
    "end\n",
    "edges"
   ]
  },
  {
   "cell_type": "markdown",
   "metadata": {},
   "source": [
    "## Read node data"
   ]
  },
  {
   "cell_type": "code",
   "execution_count": 10,
   "metadata": {},
   "outputs": [
    {
     "data": {
      "text/plain": [
       "3-element Array{Any,1}:\n",
       " Edge(10, \"Voeren\", \"Berneau\", 7.2472, 1)  \n",
       " Edge(11, \"Voeren\", \"Berneau\", 0.107192, 1)\n",
       " Edge(22, \"Wanze\", \"Sinsin\", 0.00641179, 1)"
      ]
     },
     "execution_count": 10,
     "metadata": {},
     "output_type": "execute_result"
    }
   ],
   "source": [
    "active_edges"
   ]
  },
  {
   "cell_type": "code",
   "execution_count": 11,
   "metadata": {
    "collapsed": true
   },
   "outputs": [],
   "source": [
    "df = Ndata\n",
    "\n",
    "immutable Node\n",
    "    i; lowerSupply; upperSupply; lowerPressure; upperPressure; cost\n",
    "end\n",
    "\n",
    "nodes = Dict()\n",
    "\n",
    "for itera in 1:size(df, 1)\n",
    "    i = df[itera,:1]   #set node\n",
    "    slo = df[itera,:2] #set lowerSupply\n",
    "    sup = df[itera,:3] #set upperSupply\n",
    "    plo = df[itera,:4] #set lowerPressure\n",
    "    pup = df[itera,:5] #set upperPressure\n",
    "    c = df[itera,:6] #set cost\n",
    "    \n",
    "    nodes[i] = Node(i,slo,sup,plo,pup,c)\n",
    "end"
   ]
  },
  {
   "cell_type": "markdown",
   "metadata": {},
   "source": [
    "# Model "
   ]
  },
  {
   "cell_type": "code",
   "execution_count": 12,
   "metadata": {
    "collapsed": true,
    "scrolled": false
   },
   "outputs": [],
   "source": [
    "using Gurobi # Solver"
   ]
  },
  {
   "cell_type": "code",
   "execution_count": 358,
   "metadata": {
    "collapsed": true
   },
   "outputs": [],
   "source": [
    "using Ipopt"
   ]
  },
  {
   "cell_type": "code",
   "execution_count": 376,
   "metadata": {
    "scrolled": true
   },
   "outputs": [
    {
     "data": {
      "text/latex": [
       "$$ \\begin{alignat*}{1}\\min\\quad & 0\\\\\n",
       "\\text{Subject to} \\quad\\end{alignat*}\n",
       " $$"
      ],
      "text/plain": [
       "Feasibility problem with:\n",
       " * 0 linear constraints\n",
       " * 0 variables\n",
       "Solver is Ipopt"
      ]
     },
     "execution_count": 376,
     "metadata": {},
     "output_type": "execute_result"
    }
   ],
   "source": [
    "#m = Model(solver = GurobiSolver(Presolve=0)) # Create model\n",
    "m = Model(solver = IpoptSolver()) # Create model"
   ]
  },
  {
   "cell_type": "code",
   "execution_count": 377,
   "metadata": {},
   "outputs": [],
   "source": [
    "using CoinOptServices\n",
    "\n",
    "#m = Model(solver = OsilSolver()) # Create model\n",
    "\n"
   ]
  },
  {
   "cell_type": "markdown",
   "metadata": {},
   "source": [
    "## Variables"
   ]
  },
  {
   "cell_type": "markdown",
   "metadata": {},
   "source": [
    "##### When using a tuple as an index (a,i,j) the automated latex generation does not  work properly"
   ]
  },
  {
   "cell_type": "code",
   "execution_count": 378,
   "metadata": {},
   "outputs": [
    {
     "data": {
      "text/plain": [
       "24-element Array{Any,1}:\n",
       " Edge(1, \"Zeebrugge\", \"Dudzele\", 9.059, 0)    \n",
       " Edge(2, \"Zeebrugge\", \"Dudzele\", 9.059, 0)    \n",
       " Edge(3, \"Dudzele\", \"Brugge\", 6.03933, 0)     \n",
       " Edge(4, \"Dudzele\", \"Brugge\", 6.03933, 0)     \n",
       " Edge(5, \"Brugge\", \"Zomergem\", 1.39369, 0)    \n",
       " Edge(6, \"Loenhout\", \"Antwerpen\", 0.100131, 0)\n",
       " Edge(7, \"Antwerpen\", \"Gent\", 0.14847, 0)     \n",
       " Edge(8, \"Gent\", \"Zomergem\", 0.226613, 0)     \n",
       " Edge(9, \"Zomergem\", \"Peronnes\", 0.658836, 0) \n",
       " Edge(10, \"Voeren\", \"Berneau\", 7.2472, 1)     \n",
       " Edge(11, \"Voeren\", \"Berneau\", 0.107192, 1)   \n",
       " Edge(12, \"Berneau\", \"Liege\", 1.8118, 0)      \n",
       " Edge(13, \"Berneau\", \"Liege\", 0.0267981, 0)   \n",
       " Edge(14, \"Liege\", \"Warnand\", 1.44944, 0)     \n",
       " Edge(15, \"Liege\", \"Warnand\", 0.0214385, 0)   \n",
       " Edge(16, \"Warnand\", \"Namur\", 0.862762, 0)    \n",
       " Edge(17, \"Namur\", \"Anderlues\", 0.9059, 0)    \n",
       " Edge(18, \"Anderlues\", \"Peronnes\", 7.2472, 0) \n",
       " Edge(19, \"Peronnes\", \"Mons\", 3.6236, 0)      \n",
       " Edge(20, \"Mons\", \"Blaregnies\", 1.44944, 0)   \n",
       " Edge(21, \"Warnand\", \"Wanze\", 0.0513805, 0)   \n",
       " Edge(22, \"Wanze\", \"Sinsin\", 0.00641179, 1)   \n",
       " Edge(23, \"Sinsin\", \"Arlon\", 0.00170109, 0)   \n",
       " Edge(24, \"Arlon\", \"Petange\", 0.0277844, 0)   "
      ]
     },
     "execution_count": 378,
     "metadata": {},
     "output_type": "execute_result"
    }
   ],
   "source": [
    "edges"
   ]
  },
  {
   "cell_type": "code",
   "execution_count": 379,
   "metadata": {
    "scrolled": true
   },
   "outputs": [
    {
     "data": {
      "text/latex": [
       "$$ flow_{aij} \\quad\\forall aij \\in \\{Edge(1, \"Zeebrugge\", \"Dudzele\", 9.058997518021224, 0),Edge(2, \"Zeebrugge\", \"Dudzele\", 9.058997518021224, 0),\\dots,Edge(23, \"Sinsin\", \"Arlon\", 0.0017010864366246608, 0),Edge(24, \"Arlon\", \"Petange\", 0.027784411798202797, 0)\\} $$"
      ],
      "text/plain": [
       "flow[aij] ∀ aij ∈ {Edge(1, \"Zeebrugge\", \"Dudzele\", 9.058997518021224, 0),Edge(2, \"Zeebrugge\", \"Dudzele\", 9.058997518021224, 0),…,Edge(23, \"Sinsin\", \"Arlon\", 0.0017010864366246608, 0),Edge(24, \"Arlon\", \"Petange\", 0.027784411798202797, 0)}"
      ]
     },
     "execution_count": 379,
     "metadata": {},
     "output_type": "execute_result"
    }
   ],
   "source": [
    "# flow variable\n",
    "\n",
    "@variable(m,  flow[aij in edges] )"
   ]
  },
  {
   "cell_type": "code",
   "execution_count": 380,
   "metadata": {
    "scrolled": true
   },
   "outputs": [
    {
     "data": {
      "text/latex": [
       "$$ \\dots \\leq s_{node} \\leq \\dots \\quad\\forall node \\in \\{Gent,Sinsin,\\dots,Berneau,Wanze\\} $$"
      ],
      "text/plain": [
       "… ≤ s[node] ≤ … ∀ node ∈ {Gent,Sinsin,…,Berneau,Wanze}"
      ]
     },
     "execution_count": 380,
     "metadata": {},
     "output_type": "execute_result"
    }
   ],
   "source": [
    "# supply variable\n",
    "\n",
    "@variable(m, nodes[node].lowerSupply  <= s[node in keys(nodes)]  <= nodes[node].upperSupply)"
   ]
  },
  {
   "cell_type": "code",
   "execution_count": 381,
   "metadata": {
    "scrolled": false
   },
   "outputs": [
    {
     "data": {
      "text/latex": [
       "$$ \\begin{alignat*}{1}\\min\\quad & 0\\\\\n",
       "\\text{Subject to} \\quad & flow_{aij} \\quad\\forall aij \\in \\{Edge(1, \"Zeebrugge\", \"Dudzele\", 9.058997518021224, 0),Edge(2, \"Zeebrugge\", \"Dudzele\", 9.058997518021224, 0),\\dots,Edge(23, \"Sinsin\", \"Arlon\", 0.0017010864366246608, 0),Edge(24, \"Arlon\", \"Petange\", 0.027784411798202797, 0)\\}\\\\\n",
       " & s_{Gent} \\leq -5.256\\\\\n",
       " & 0 \\leq s_{Sinsin} \\leq 0\\\\\n",
       " & s_{Blaregnies} \\leq -15.616\\\\\n",
       " & s_{Petange} \\leq -1.919\\\\\n",
       " & 0 \\leq s_{Anderlues} \\leq 1.2\\\\\n",
       " & 8.87 \\leq s_{Zeebrugge} \\leq 11.594\\\\\n",
       " & 20.344 \\leq s_{Voeren} \\leq 22.012\\\\\n",
       " & 0 \\leq s_{Dudzele} \\leq 8.4\\\\\n",
       " & s_{Mons} \\leq -6.848\\\\\n",
       " & s_{Liege} \\leq -6.385\\\\\n",
       " & 0 \\leq s_{Warnand} \\leq 0\\\\\n",
       " & 0 \\leq s_{Loenhout} \\leq 4.8\\\\\n",
       " & 0 \\leq s_{Peronnes} \\leq 0.96\\\\\n",
       " & 0 \\leq s_{Zomergem} \\leq 0\\\\\n",
       " & s_{Brugge} \\leq -3.918\\\\\n",
       " & s_{Antwerpen} \\leq -4.034\\\\\n",
       " & s_{Arlon} \\leq -0.222\\\\\n",
       " & s_{Namur} \\leq -2.12\\\\\n",
       " & 0 \\leq s_{Berneau} \\leq 0\\\\\n",
       " & 0 \\leq s_{Wanze} \\leq 0\\\\\n",
       "\\end{alignat*}\n",
       " $$"
      ],
      "text/plain": [
       "Feasibility problem with:\n",
       " * 0 linear constraints\n",
       " * 44 variables\n",
       "Solver is Ipopt"
      ]
     },
     "execution_count": 381,
     "metadata": {},
     "output_type": "execute_result"
    }
   ],
   "source": [
    "m"
   ]
  },
  {
   "cell_type": "code",
   "execution_count": 382,
   "metadata": {},
   "outputs": [
    {
     "data": {
      "text/latex": [
       "$$ \\dots \\leq pi_{node} \\leq \\dots \\quad\\forall node \\in \\{Gent,Sinsin,\\dots,Berneau,Wanze\\} $$"
      ],
      "text/plain": [
       "… ≤ pi[node] ≤ … ∀ node ∈ {Gent,Sinsin,…,Berneau,Wanze}"
      ]
     },
     "execution_count": 382,
     "metadata": {},
     "output_type": "execute_result"
    }
   ],
   "source": [
    "# squared pressure--> linearization\n",
    "\n",
    "@variable(m, (nodes[node].lowerPressure)^2 <= pi[node in keys(nodes)] <= \n",
    "    (nodes[node].upperPressure)^2 ) "
   ]
  },
  {
   "cell_type": "markdown",
   "metadata": {},
   "source": [
    "## Constraints"
   ]
  },
  {
   "cell_type": "code",
   "execution_count": 383,
   "metadata": {
    "collapsed": true,
    "scrolled": false
   },
   "outputs": [],
   "source": [
    "I = unique([edge.to for edge in edges])  ;"
   ]
  },
  {
   "cell_type": "code",
   "execution_count": 384,
   "metadata": {},
   "outputs": [],
   "source": [
    "# (1)\n",
    "@constraint(m,flowcon[node = I], sum{flow[e], e in edges; e.from == node}\n",
    "  == sum{flow[e] , e in edges; e.to == node} + s[node]);"
   ]
  },
  {
   "cell_type": "code",
   "execution_count": 385,
   "metadata": {
    "collapsed": true
   },
   "outputs": [],
   "source": [
    "# (2)\n",
    "@constraint(m,freevar[node = active_edges], flow[node] >= 0 );"
   ]
  },
  {
   "cell_type": "code",
   "execution_count": 386,
   "metadata": {},
   "outputs": [
    {
     "data": {
      "text/plain": [
       "281.5"
      ]
     },
     "execution_count": 386,
     "metadata": {},
     "output_type": "execute_result"
    }
   ],
   "source": [
    "T"
   ]
  },
  {
   "cell_type": "code",
   "execution_count": 387,
   "metadata": {
    "collapsed": true,
    "scrolled": true
   },
   "outputs": [],
   "source": [
    "# Linear approximations of the flow\n",
    "\n",
    "# (2) passive\n",
    "#@constraint(m,passiveflow[node = passive_edges], flow[node] ==  node.pipecoeff * (pi[node.from]-pi[node.to]));\n",
    "\n",
    "# (3) active\n",
    "@constraint(m,activeflow[node = active_edges], flow[node] >=  node.pipecoeff * (pi[node.from]-pi[node.to]));\n"
   ]
  },
  {
   "cell_type": "markdown",
   "metadata": {},
   "source": [
    "## Objective"
   ]
  },
  {
   "cell_type": "code",
   "execution_count": 388,
   "metadata": {
    "scrolled": true
   },
   "outputs": [
    {
     "data": {
      "text/latex": [
       "$$ 1.68 s_{Anderlues} + 2.28 s_{Zeebrugge} + 1.68 s_{Voeren} + 2.28 s_{Dudzele} + 2.28 s_{Loenhout} + 1.68 s_{Peronnes} $$"
      ],
      "text/plain": [
       "1.68 s[Anderlues] + 2.28 s[Zeebrugge] + 1.68 s[Voeren] + 2.28 s[Dudzele] + 2.28 s[Loenhout] + 1.68 s[Peronnes]"
      ]
     },
     "execution_count": 388,
     "metadata": {},
     "output_type": "execute_result"
    }
   ],
   "source": [
    "@objective(m, Min, sum{node.cost * s[node.i], node in values(nodes)})"
   ]
  },
  {
   "cell_type": "markdown",
   "metadata": {},
   "source": [
    "## Solve"
   ]
  },
  {
   "cell_type": "code",
   "execution_count": 389,
   "metadata": {
    "scrolled": true
   },
   "outputs": [
    {
     "name": "stdout",
     "output_type": "stream",
     "text": [
      "This is Ipopt version 3.12.4, running with linear solver mumps.\n",
      "NOTE: Other linear solvers might be more efficient (see Ipopt documentation).\n",
      "\n",
      "Number of nonzeros in equality constraint Jacobian...:       55\n",
      "Number of nonzeros in inequality constraint Jacobian.:       12\n",
      "Number of nonzeros in Lagrangian Hessian.............:        0\n",
      "\n",
      "Total number of variables............................:       59\n",
      "                     variables with only lower bounds:        0\n",
      "                variables with lower and upper bounds:       26\n",
      "                     variables with only upper bounds:        9\n",
      "Total number of equality constraints.................:       17\n",
      "Total number of inequality constraints...............:        6\n",
      "        inequality constraints with only lower bounds:        6\n",
      "   inequality constraints with lower and upper bounds:        0\n",
      "        inequality constraints with only upper bounds:        0\n",
      "\n",
      "iter    objective    inf_pr   inf_du lg(mu)  ||d||  lg(rg) alpha_du alpha_pr  ls\n",
      "   0  5.4570177e+01 1.83e+04 2.28e+00  -1.0 0.00e+00    -  0.00e+00 0.00e+00   0\n",
      "   1  5.4576302e+01 1.81e+04 2.26e+00  -1.0 2.52e+03  -4.0 7.26e-03 7.40e-03h  1\n",
      "   2  5.4577672e+01 1.81e+04 2.26e+00  -1.0 2.39e+03  -4.5 8.64e-06 1.70e-03f  1\n",
      "   3  5.4589766e+01 1.78e+04 2.26e+00  -1.0 2.50e+03  -5.0 2.69e-03 1.50e-02h  1\n",
      "   4  5.5367993e+01 7.11e-15 7.12e+01  -1.0 2.46e+03  -5.4 1.59e-02 1.00e+00h  1\n",
      "   5  5.4661019e+01 2.59e-15 4.25e+00  -1.0 3.67e-01  -5.9 9.61e-01 9.41e-01f  1\n",
      "   6  5.4994070e+01 7.11e-15 7.15e-02  -1.0 1.08e+01  -6.4 3.74e-01 1.00e+00f  1\n",
      "   7  5.4983574e+01 3.55e-15 2.40e-02  -1.0 1.25e+01  -6.9 7.46e-01 1.00e+00f  1\n",
      "   8  5.4983787e+01 9.55e-15 8.32e-03  -1.0 5.36e+01  -7.3 5.12e-01 1.00e+00f  1\n",
      "   9  5.4983785e+01 2.54e-14 5.28e-03  -1.0 1.04e+02  -7.8 6.22e-01 1.00e+00f  1\n",
      "iter    objective    inf_pr   inf_du lg(mu)  ||d||  lg(rg) alpha_du alpha_pr  ls\n",
      "  10  5.4983785e+01 4.99e-14 1.22e-03  -1.0 2.77e+02  -8.3 5.72e-01 1.00e+00f  1\n",
      "  11  5.4983785e+01 2.27e-13 9.63e-04  -1.0 6.27e+02  -8.8 5.94e-01 1.00e+00f  1\n",
      "  12  5.4983785e+01 1.14e-13 9.39e-04  -1.0 2.26e+03  -9.2 5.88e-01 1.89e-01f  1\n",
      "  13  5.4532063e+01 2.37e-13 6.57e-05  -1.7 6.59e+02  -9.7 7.88e-01 1.00e+00f  1\n",
      "  14  5.4419629e+01 2.27e-13 4.10e-06  -2.5 9.42e+02 -10.2 8.95e-01 1.00e+00f  1\n",
      "  15  5.4402453e+01 2.27e-13 2.36e-07  -3.8 1.79e+02 -10.7 9.61e-01 1.00e+00f  1\n",
      "  16  5.4401531e+01 6.82e-13 3.13e-09  -5.7 4.26e+02 -11.2 9.84e-01 1.00e+00f  1\n",
      "  17  5.4401530e+01 4.55e-13 1.11e-09  -5.7 4.69e+02 -11.6 1.00e+00 1.00e+00f  1\n",
      "  18  5.4401519e+01 4.55e-13 8.33e-13  -8.6 1.08e+00 -12.1 1.00e+00 1.00e+00f  1\n",
      "\n",
      "Number of Iterations....: 18\n",
      "\n",
      "                                   (scaled)                 (unscaled)\n",
      "Objective...............:   5.4401519391826255e+01    5.4401519391826255e+01\n",
      "Dual infeasibility......:   8.3308679302272851e-13    8.3308679302272851e-13\n",
      "Constraint violation....:   4.5474735088646412e-13    4.5474735088646412e-13\n",
      "Complementarity.........:   3.3783895368014902e-09    3.3783895368014902e-09\n",
      "Overall NLP error.......:   3.3783895368014902e-09    3.3783895368014902e-09\n",
      "\n",
      "\n",
      "Number of objective function evaluations             = 19\n",
      "Number of objective gradient evaluations             = 19\n",
      "Number of equality constraint evaluations            = 19\n",
      "Number of inequality constraint evaluations          = 19\n",
      "Number of equality constraint Jacobian evaluations   = 19\n",
      "Number of inequality constraint Jacobian evaluations = 19\n",
      "Number of Lagrangian Hessian evaluations             = 18\n",
      "Total CPU secs in IPOPT (w/o function evaluations)   =      0.023\n",
      "Total CPU secs in NLP function evaluations           =      0.001\n",
      "\n",
      "EXIT: Optimal Solution Found.\n"
     ]
    }
   ],
   "source": [
    "include(\"gurobi_iis.jl\") #module for calculating IIS in case of infeasability\n",
    "\n",
    "status = solve(m)\n",
    "\n",
    "if string(status) == \"Infeasible\"\n",
    "    print_iis_gurobi(m)\n",
    "end"
   ]
  },
  {
   "cell_type": "code",
   "execution_count": 390,
   "metadata": {},
   "outputs": [
    {
     "name": "stdout",
     "output_type": "stream",
     "text": [
      "pi = flow: 1 dimensions:\n",
      "[   Edge(1, \"Zeebrugge\", \"Dudzele\", 9.058997518021224, 0)] = 1637.6520472525324\n",
      "[   Edge(2, \"Zeebrugge\", \"Dudzele\", 9.058997518021224, 0)] = 1637.6578638644576\n",
      "[      Edge(3, \"Dudzele\", \"Brugge\", 6.039331678680816, 0)] = 1637.6549555540462\n",
      "[      Edge(4, \"Dudzele\", \"Brugge\", 6.039331678680816, 0)] = 1637.6549555540432\n",
      "[    Edge(5, \"Brugge\", \"Zomergem\", 1.3936919258494191, 0)] = 2083.4376903057146\n",
      "[Edge(6, \"Loenhout\", \"Antwerpen\", 0.10013120911442538, 0)] = 2944.828517083997\n",
      "[    Edge(7, \"Antwerpen\", \"Gent\", 0.14847041351449283, 0)] = 1755.2774953312817\n",
      "[     Edge(8, \"Gent\", \"Zomergem\", 0.22661273641685747, 0)] = 658.647419609713\n",
      "[  Edge(9, \"Zomergem\", \"Peronnes\", 0.6588361831288163, 0)] = 2742.085109915428\n",
      "[      Edge(10, \"Voeren\", \"Berneau\", 7.24719801441698, 1)] = 1562.3717824976304\n",
      "[   Edge(11, \"Voeren\", \"Berneau\", 0.10719241288031257, 1)] = 1357.6346849804381\n",
      "[      Edge(12, \"Berneau\", \"Liege\", 1.811799503604245, 0)] = 1460.0032337390414\n",
      "[   Edge(13, \"Berneau\", \"Liege\", 0.026798103220078143, 0)] = 1460.0032337390269\n",
      "[     Edge(14, \"Liege\", \"Warnand\", 1.4494396028833958, 0)] = 860.8632515836688\n",
      "[   Edge(15, \"Liege\", \"Warnand\", 0.021438482576062515, 0)] = 860.8632515836638\n",
      "[     Edge(16, \"Warnand\", \"Namur\", 0.8627616683829737, 0)] = 201.59638271274846\n",
      "[   Edge(17, \"Namur\", \"Anderlues\", 0.9058997518021225, 0)] = -820.0810679813478\n",
      "[  Edge(18, \"Anderlues\", \"Peronnes\", 7.24719801441698, 0)] = -820.0810679898551\n",
      "[       Edge(19, \"Peronnes\", \"Mons\", 3.62359900720849, 0)] = 1922.0040419170655\n",
      "[   Edge(20, \"Mons\", \"Blaregnies\", 1.4494396028833958, 0)] = 952.9291095043478\n",
      "[    Edge(21, \"Warnand\", \"Wanze\", 0.05138052785070492, 0)] = 1520.1301204545841\n",
      "[    Edge(22, \"Wanze\", \"Sinsin\", 0.006411787338046799, 1)] = 1520.1301204545841\n",
      "[   Edge(23, \"Sinsin\", \"Arlon\", 0.0017010864366246608, 0)] = 1520.1301204545841\n",
      "[   Edge(24, \"Arlon\", \"Petange\", 0.027784411798202797, 0)] = 630.6101184467904\n"
     ]
    }
   ],
   "source": [
    "println(\"pi = \", getvalue(flow))"
   ]
  },
  {
   "cell_type": "markdown",
   "metadata": {},
   "source": [
    "## Add non linearities"
   ]
  },
  {
   "cell_type": "code",
   "execution_count": 391,
   "metadata": {},
   "outputs": [
    {
     "name": "stderr",
     "output_type": "stream",
     "text": [
      "\u001b[1m\u001b[33mWARNING: \u001b[39m\u001b[22m\u001b[33mA variable or constraint named activeflow is already attached to this model. If creating constraints programmatically, use the anonymous constraint syntax con = @constraint(m, ...).\u001b[39m\n"
     ]
    }
   ],
   "source": [
    "# Non linearities\n",
    "\n",
    "#@variable(m, z)\n",
    "\n",
    "\n",
    "@variable(m,  z[aij in edges]  )\n",
    "\n",
    "@constraint(m, slackposri[node = edges], z[node] >= flow[node] );\n",
    "@constraint(m, slackposle[node = edges], z[node] >= -flow[node] );\n",
    "\n",
    "\n",
    "#@constraint(m, z[aij] >= flow)\n",
    "#@constraint(m, z >= -flow)\n",
    "\n",
    "# (2) passive\n",
    "@constraint(m,passiveflow[node = passive_edges], z[node]*flow[node] ==  node.pipecoeff * (pi[node.from]-pi[node.to]));\n",
    "\n",
    "# (3) active\n",
    "@constraint(m,activeflow[node = active_edges], flow[node]*flow[node] >=  node.pipecoeff * (pi[node.from]-pi[node.to]));\n",
    "\n"
   ]
  },
  {
   "cell_type": "code",
   "execution_count": 392,
   "metadata": {
    "scrolled": true
   },
   "outputs": [
    {
     "name": "stdout",
     "output_type": "stream",
     "text": [
      "This is Ipopt version 3.12.4, running with linear solver mumps.\n",
      "NOTE: Other linear solvers might be more efficient (see Ipopt documentation).\n",
      "\n",
      "Number of nonzeros in equality constraint Jacobian...:      139\n",
      "Number of nonzeros in inequality constraint Jacobian.:      120\n",
      "Number of nonzeros in Lagrangian Hessian.............:       24\n",
      "\n",
      "Total number of variables............................:       83\n",
      "                     variables with only lower bounds:        0\n",
      "                variables with lower and upper bounds:       26\n",
      "                     variables with only upper bounds:        9\n",
      "Total number of equality constraints.................:       38\n",
      "Total number of inequality constraints...............:       57\n",
      "        inequality constraints with only lower bounds:       57\n",
      "   inequality constraints with lower and upper bounds:        0\n",
      "        inequality constraints with only upper bounds:        0\n",
      "\n",
      "iter    objective    inf_pr   inf_du lg(mu)  ||d||  lg(rg) alpha_du alpha_pr  ls\n",
      "   0  5.4570177e+01 5.31e+03 2.28e+00  -1.0 0.00e+00    -  0.00e+00 0.00e+00   0\n",
      "   1  5.4570575e+01 5.29e+03 1.56e+01  -1.0 3.12e+05    -  4.10e-02 2.50e-03h  1\n",
      "   2  5.4589266e+01 5.06e+03 9.52e+00  -1.0 3.11e+05    -  3.13e-02 4.46e-02h  1\n",
      "   3  5.4828222e+01 3.52e+03 1.47e+02  -1.0 2.84e+05    -  1.24e-01 4.54e-01H  1\n",
      "   4  5.4859036e+01 3.05e+03 1.07e+02  -1.0 7.01e+04    -  3.00e-01 1.70e-01h  2\n",
      "   5  5.4874150e+01 2.90e+03 9.00e+01  -1.0 4.46e+04    -  1.22e-01 5.36e-02h  2\n",
      "   6  5.4913175e+01 2.57e+03 1.04e+02  -1.0 3.91e+04    -  1.94e-03 1.36e-01h  2\n",
      "   7  5.5016194e+01 2.07e+03 1.16e+02  -1.0 2.73e+04    -  1.73e-02 3.03e-01h  1\n",
      "   8  5.5018002e+01 2.05e+03 5.20e+02  -1.0 2.09e+04    -  6.67e-02 8.90e-03h  1\n",
      "   9  5.5018028e+01 2.05e+03 2.79e+03  -1.0 1.75e+05    -  2.53e-04 1.13e-05h  4\n",
      "iter    objective    inf_pr   inf_du lg(mu)  ||d||  lg(rg) alpha_du alpha_pr  ls\n",
      "  10  5.5018051e+01 2.05e+03 2.72e+03  -1.0 7.13e+05    -  2.00e-05 2.20e-05h  3\n",
      "  11  5.5018062e+01 2.05e+03 3.82e+03  -1.0 1.13e+06    -  3.70e-05 1.74e-05h  3\n",
      "  12  5.5018071e+01 2.05e+03 4.13e+04  -1.0 2.15e+06    -  3.87e-04 1.48e-05h  3\n",
      "  13  5.5018148e+01 2.05e+03 2.75e+04  -1.0 1.11e+07    -  5.12e-05 1.34e-04h  2\n",
      "  14  5.5018235e+01 2.05e+03 5.21e+04  -1.0 1.05e+07    -  2.21e-04 1.51e-04h  1\n",
      "  15  5.5018246e+01 2.05e+03 1.83e+05  -1.0 1.39e+07    -  3.89e-05 1.94e-05h  1\n",
      "  16  5.5018250e+01 2.05e+03 1.83e+05  -1.0 2.23e+07    -  7.24e-06 7.24e-06s  5\n",
      "  17  5.5018251e+01 2.05e+03 1.83e+05  -1.0 2.83e+07    -  1.05e-06 1.05e-06s  5\n",
      "  18r 5.5018251e+01 2.05e+03 1.00e+03   4.0 0.00e+00    -  0.00e+00 0.00e+00R  1\n",
      "  19r 6.3860306e+01 2.04e+03 1.00e+03   4.0 4.05e+06    -  2.55e-04 3.00e-04f  1\n",
      "iter    objective    inf_pr   inf_du lg(mu)  ||d||  lg(rg) alpha_du alpha_pr  ls\n",
      "  20r 6.3819095e+01 2.01e+03 1.00e+03   1.9 1.97e+06    -  1.70e-04 1.09e-03f  1\n",
      "  21  6.3818857e+01 2.01e+03 1.05e+04  -1.0 5.93e+03    -  1.95e-01 1.84e-05h  1\n",
      "  22r 6.3818857e+01 2.01e+03 1.00e+03   3.8 0.00e+00    -  0.00e+00 3.18e-07R  2\n",
      "  23r 6.1316139e+01 2.01e+03 9.98e+02   3.8 1.64e+06    -  2.99e-03 1.83e-04f  1\n",
      "  24r 6.1393743e+01 1.87e+03 9.95e+02   1.7 1.42e+06    -  1.78e-03 4.09e-03f  1\n",
      "  25  6.1393605e+01 1.87e+03 1.35e+06  -1.0 3.66e+03    -  1.84e-01 1.42e-05h  1\n",
      "  26  6.1393571e+01 1.87e+03 1.35e+06  -1.0 7.14e+05    -  3.91e-06 3.91e-06s  4\n",
      "  27r 6.1393571e+01 1.87e+03 1.00e+03   3.4 0.00e+00    -  0.00e+00 0.00e+00R  1\n",
      "  28r 6.4567012e+01 1.82e+03 9.98e+02   3.4 4.54e+05    -  5.87e-03 6.85e-04f  1\n",
      "  29  6.4566815e+01 1.82e+03 2.05e+04  -1.0 3.65e+03    -  3.89e-01 1.89e-05h  1\n",
      "iter    objective    inf_pr   inf_du lg(mu)  ||d||  lg(rg) alpha_du alpha_pr  ls\n",
      "  30r 6.4566815e+01 1.82e+03 1.00e+03   3.4 0.00e+00    -  0.00e+00 4.96e-07R  2\n",
      "  31r 6.1836927e+01 1.82e+03 1.08e+03   3.4 3.84e+05    -  1.16e-02 3.80e-05f  1\n",
      "  32r 6.1917712e+01 1.57e+03 1.05e+03   2.0 2.68e+05    -  2.71e-02 4.87e-03f  1\n",
      "  33r 6.1917712e+01 1.57e+03 9.99e+02   3.1 0.00e+00    -  0.00e+00 2.61e-07R  6\n",
      "  34r 6.5005649e+01 1.46e+03 9.97e+02   3.1 2.49e+05    -  1.49e-02 1.01e-03f  1\n",
      "  35  6.5004172e+01 1.46e+03 1.65e+05  -1.0 3.07e+03    -  9.55e-02 1.02e-04h  1\n",
      "  36  6.5003408e+01 1.46e+03 1.65e+05  -1.0 2.43e+05    -  5.98e-06 5.98e-06s  5\n",
      "  37r 6.5003408e+01 1.46e+03 1.00e+03   3.0 0.00e+00    -  0.00e+00 0.00e+00R  1\n",
      "  38r 6.2269927e+01 1.45e+03 2.12e+03   3.0 1.67e+05    -  4.12e-02 4.46e-05f  1\n",
      "  39r 6.2650644e+01 1.27e+03 1.99e+03   2.3 6.84e+04    -  5.90e-02 1.37e-02f  1\n",
      "iter    objective    inf_pr   inf_du lg(mu)  ||d||  lg(rg) alpha_du alpha_pr  ls\n",
      "  40  6.2649322e+01 1.27e+03 4.35e+03  -1.0 2.14e+03    -  4.02e-01 9.19e-05h  1\n",
      "  41  6.2649169e+01 1.27e+03 5.67e+07  -1.0 1.10e+04    -  1.69e-01 1.29e-05h  1\n",
      "  42r 6.2649169e+01 1.27e+03 1.00e+03   2.7 0.00e+00    -  0.00e+00 4.96e-07R  2\n",
      "  43r 6.2695983e+01 1.26e+03 9.98e+02   2.7 1.18e+05    -  2.85e-02 6.18e-05f  1\n",
      "  44r 6.3362770e+01 1.07e+03 9.78e+02   2.0 3.26e+04    -  1.65e-01 1.50e-02f  1\n",
      "  45  6.3360923e+01 1.07e+03 1.00e+03  -1.0 1.16e+03    -  1.12e-01 1.11e-04h  1\n",
      "  46  6.3360566e+01 1.07e+03 1.19e+07  -1.0 1.64e+03    -  2.71e-01 2.26e-05h  1\n",
      "  47r 6.3360566e+01 1.07e+03 1.00e+03   2.5 0.00e+00    -  0.00e+00 4.17e-07R  4\n",
      "  48r 6.3628369e+01 9.68e+02 9.98e+02   2.5 9.85e+04    -  1.61e-02 4.74e-04f  1\n",
      "  49r 6.4729957e+01 5.49e+02 9.82e+02   1.1 1.90e+04    -  5.06e-02 1.52e-02f  1\n",
      "iter    objective    inf_pr   inf_du lg(mu)  ||d||  lg(rg) alpha_du alpha_pr  ls\n",
      "  50  6.4728534e+01 5.49e+02 1.09e+03  -1.0 1.55e+03    -  6.50e-02 6.01e-05h  1\n",
      "  51  6.4727891e+01 5.49e+02 5.74e+05  -1.0 3.19e+03    -  8.66e-03 1.63e-05h  1\n",
      "  52r 6.4727891e+01 5.49e+02 1.00e+03   2.3 0.00e+00    -  0.00e+00 2.78e-07R  6\n",
      "  53r 6.4763460e+01 5.46e+02 1.00e+03   2.3 3.64e+04    -  9.70e-04 4.78e-05f  1\n",
      "  54r 6.5602807e+01 3.40e+02 9.96e+02   1.6 1.75e+04    -  1.92e-02 2.94e-03f  1\n",
      "  55  6.5602495e+01 3.40e+02 4.32e+03  -1.0 1.49e+03    -  1.05e-01 2.45e-05h  1\n",
      "  56  6.5602462e+01 3.40e+02 4.24e+06  -1.0 8.10e+03    -  1.17e-02 1.18e-05h  1\n",
      "  57r 6.5602462e+01 3.40e+02 1.00e+03   2.2 0.00e+00    -  0.00e+00 3.30e-07R  5\n",
      "  58r 6.5666841e+01 3.19e+02 9.98e+02   2.2 1.41e+04    -  3.32e-03 5.87e-04f  1\n",
      "  59r 6.6236164e+01 2.10e+02 9.94e+02   1.5 1.37e+04    -  9.09e-02 3.79e-03f  1\n",
      "iter    objective    inf_pr   inf_du lg(mu)  ||d||  lg(rg) alpha_du alpha_pr  ls\n",
      "  60  6.6235487e+01 2.10e+02 9.03e+02  -1.0 1.69e+03    -  5.68e-02 6.42e-05h  1\n",
      "  61  6.6235298e+01 2.10e+02 7.05e+05  -1.0 1.93e+03    -  1.09e-02 1.38e-05h  1\n",
      "  62r 6.6235298e+01 2.10e+02 1.00e+03   2.1 0.00e+00    -  0.00e+00 3.91e-07R  5\n",
      "  63r 6.6790469e+01 1.55e+02 9.96e+02   2.1 1.27e+04    -  2.97e-02 2.74e-03f  1\n",
      "  64  6.6790295e+01 1.55e+02 2.01e+02  -1.0 1.90e+03    -  2.78e-02 1.42e-04h  1\n",
      "  65  6.6789990e+01 1.55e+02 8.35e+03  -1.0 1.93e+03    -  9.90e-04 2.37e-05h  1\n",
      "  66r 6.6789990e+01 1.55e+02 1.00e+03   2.1 0.00e+00    -  0.00e+00 3.82e-07R  5\n",
      "  67r 6.7061662e+01 1.40e+02 9.98e+02   2.1 1.14e+04    -  7.73e-03 1.22e-03f  1\n",
      "  68r 6.8331545e+01 1.02e+02 9.89e+02   1.4 1.04e+04    -  5.19e-02 8.88e-03f  1\n",
      "  69  6.8322789e+01 1.02e+02 4.94e+01  -1.0 1.85e+03    -  2.26e-02 5.15e-04h  1\n",
      "iter    objective    inf_pr   inf_du lg(mu)  ||d||  lg(rg) alpha_du alpha_pr  ls\n",
      "  70  6.8322513e+01 1.02e+02 1.44e+05  -1.0 1.92e+03    -  4.80e-02 1.63e-05h  1\n",
      "  71  6.8320885e+01 1.02e+02 1.99e+07  -1.0 2.23e+03    -  1.34e-02 9.57e-05h  1\n",
      "  72r 6.8320885e+01 1.02e+02 1.00e+03   2.0 0.00e+00    -  0.00e+00 3.13e-07R  4\n",
      "  73r 6.9861235e+01 1.37e+02 9.96e+02   2.0 8.27e+03    -  4.01e-03 7.08e-03f  1\n",
      "  74r 7.0236914e+01 1.37e+02 9.91e+02   1.3 6.00e+03    -  2.37e-02 9.67e-04f  1\n",
      "  75r 7.4063126e+01 1.94e+02 9.85e+02   1.3 6.46e+03    -  1.00e-02 5.69e-03f  1\n",
      "  76r 7.4696465e+01 1.94e+02 9.84e+02   1.3 5.11e+03    -  2.04e-02 1.41e-03f  1\n",
      "  77r 8.0367031e+01 1.87e+02 9.64e+02   1.3 3.70e+03    -  6.10e-02 2.04e-02f  1\n",
      "  78r 8.1171176e+01 1.78e+02 9.28e+02   1.3 2.94e+03    -  2.37e-02 3.75e-02f  1\n",
      "  79r 7.9447305e+01 2.16e+02 9.19e+02   1.3 8.92e+03    -  4.79e-04 1.11e-02f  1\n",
      "iter    objective    inf_pr   inf_du lg(mu)  ||d||  lg(rg) alpha_du alpha_pr  ls\n",
      "  80r 7.9266167e+01 2.14e+02 9.13e+02   1.3 8.01e+03    -  8.78e-02 4.80e-03f  1\n",
      "  81r 7.2762127e+01 3.31e+02 8.62e+02   1.3 8.41e+03    -  4.40e-02 5.55e-02f  1\n",
      "  82r 7.2758576e+01 3.27e+02 8.54e+02   1.3 9.96e+02    -  3.68e-01 1.02e-02f  1\n",
      "  83r 7.4939547e+01 1.95e+02 5.48e+02   1.3 9.43e+02    -  7.05e-03 3.94e-01f  1\n",
      "  84  7.4938468e+01 1.94e+02 3.78e+01  -1.0 2.11e+03    -  1.03e-01 2.72e-03h  1\n",
      "  85  7.4214058e+01 1.88e+02 6.91e+01  -1.0 2.53e+03    -  1.18e-01 3.34e-02h  1\n",
      "  86  7.1896445e+01 1.68e+02 5.77e+01  -1.0 2.45e+03    -  7.79e-02 1.02e-01h  1\n",
      "  87  6.7858179e+01 1.30e+02 1.13e+02  -1.0 1.98e+03    -  6.48e-04 2.08e-01f  1\n",
      "  88  6.0884731e+01 2.65e+02 6.27e+01  -1.0 1.19e+03    -  5.50e-01 4.81e-01f  1\n",
      "  89  6.0850006e+01 2.63e+02 7.36e+01  -1.0 3.89e+02    -  2.44e-01 9.26e-03h  1\n",
      "iter    objective    inf_pr   inf_du lg(mu)  ||d||  lg(rg) alpha_du alpha_pr  ls\n",
      "  90  6.0812877e+01 2.60e+02 7.21e+01  -1.0 3.86e+02    -  1.88e-04 1.31e-02h  1\n",
      "  91  5.9439160e+01 1.32e+02 4.28e+01  -1.0 3.81e+02    -  1.53e-01 4.90e-01f  1\n",
      "  92  5.8291347e+01 3.82e+01 2.01e+01  -1.0 3.01e+02    -  6.69e-01 8.96e-01h  1\n",
      "  93  5.8407835e+01 2.27e+00 2.14e+00  -1.0 8.37e+01    -  9.65e-01 1.00e+00f  1\n",
      "  94  5.6849838e+01 2.76e+01 4.81e+00  -1.0 1.79e+02    -  1.16e-01 1.00e+00f  1\n",
      "  95  5.5561859e+01 2.61e+01 4.14e+00  -1.0 8.23e+02    -  1.47e-01 6.44e-02f  1\n",
      "  96  5.4870948e+01 2.41e+01 1.68e+00  -1.0 8.08e+02    -  5.93e-01 1.17e-01f  1\n",
      "  97  5.5092546e+01 1.56e+02 2.60e-01  -1.0 6.17e+01  -4.0 2.14e-01 1.00e+00f  1\n",
      "  98  5.5046044e+01 2.20e+03 9.74e-01  -1.0 1.20e+02  -3.6 1.78e-01 1.00e+00h  1\n",
      "  99  5.5052263e+01 3.18e+02 2.90e-01  -1.0 3.27e+02  -3.1 4.12e-01 2.88e-01h  1\n",
      "iter    objective    inf_pr   inf_du lg(mu)  ||d||  lg(rg) alpha_du alpha_pr  ls\n",
      " 100  5.5053063e+01 6.67e+00 4.91e-03  -1.0 1.45e+01  -3.6 1.00e+00 1.00e+00h  1\n",
      " 101  5.4499261e+01 3.19e-01 7.07e-02  -1.7 7.51e+00  -4.1 1.00e+00 9.64e-01h  1\n",
      " 102  5.4418848e+01 5.74e-02 1.48e-04  -2.5 3.20e+00  -4.6 1.00e+00 1.00e+00h  1\n",
      " 103  5.4402398e+01 2.42e-04 4.27e-05  -3.8 5.39e-01  -5.1 1.00e+00 1.00e+00h  1\n",
      " 104  5.4401530e+01 2.07e-06 6.41e-08  -5.7 2.04e-02  -5.5 1.00e+00 1.00e+00h  1\n",
      " 105  5.4401519e+01 3.15e-11 8.02e-11  -8.6 8.22e-05  -6.0 1.00e+00 1.00e+00h  1\n",
      "\n",
      "Number of Iterations....: 105\n",
      "\n",
      "                                   (scaled)                 (unscaled)\n",
      "Objective...............:   5.4401519391807369e+01    5.4401519391807369e+01\n",
      "Dual infeasibility......:   8.0216062264849128e-11    8.0216062264849128e-11\n",
      "Constraint violation....:   3.6628993382393408e-12    3.1532554345403696e-11\n",
      "Complementarity.........:   2.5160463903237503e-09    2.5160463903237503e-09\n",
      "Overall NLP error.......:   2.5160463903237503e-09    2.5160463903237503e-09\n",
      "\n",
      "\n",
      "Number of objective function evaluations             = 175\n",
      "Number of objective gradient evaluations             = 87\n",
      "Number of equality constraint evaluations            = 175\n",
      "Number of inequality constraint evaluations          = 175\n",
      "Number of equality constraint Jacobian evaluations   = 119\n",
      "Number of inequality constraint Jacobian evaluations = 119\n",
      "Number of Lagrangian Hessian evaluations             = 105\n",
      "Total CPU secs in IPOPT (w/o function evaluations)   =      0.301\n",
      "Total CPU secs in NLP function evaluations           =      0.012\n",
      "\n",
      "EXIT: Optimal Solution Found.\n"
     ]
    },
    {
     "data": {
      "text/plain": [
       ":Optimal"
      ]
     },
     "execution_count": 392,
     "metadata": {},
     "output_type": "execute_result"
    }
   ],
   "source": [
    "include(\"gurobi_iis.jl\") #module for calculating IIS in case of infeasability\n",
    "status = solve(m)\n"
   ]
  },
  {
   "cell_type": "markdown",
   "metadata": {},
   "source": [
    "# Evaluation"
   ]
  },
  {
   "cell_type": "code",
   "execution_count": 395,
   "metadata": {},
   "outputs": [
    {
     "name": "stdout",
     "output_type": "stream",
     "text": [
      "flow = flow: 1 dimensions:\n",
      "[   Edge(1, \"Zeebrugge\", \"Dudzele\", 9.058997518021224, 0)] = 11.697686274823408\n",
      "[   Edge(2, \"Zeebrugge\", \"Dudzele\", 9.058997518021224, 0)] = 11.69767448366753\n",
      "[      Edge(3, \"Dudzele\", \"Brugge\", 6.039331678680816, 0)] = 11.697680374795016\n",
      "[      Edge(4, \"Dudzele\", \"Brugge\", 6.039331678680816, 0)] = 11.697680374795015\n",
      "[    Edge(5, \"Brugge\", \"Zomergem\", 1.3936919258494191, 0)] = 15.850524564255089\n",
      "[Edge(6, \"Loenhout\", \"Antwerpen\", 0.10013120911442538, 0)] = 7.8634947523676155\n",
      "[    Edge(7, \"Antwerpen\", \"Gent\", 0.14847041351449283, 0)] = 3.384712417881812\n",
      "[     Edge(8, \"Gent\", \"Zomergem\", 0.22661273641685747, 0)] = -2.19453462599948\n",
      "[  Edge(9, \"Zomergem\", \"Peronnes\", 0.6588361831288163, 0)] = 13.655989938255608\n",
      "[      Edge(10, \"Voeren\", \"Berneau\", 7.24719801441698, 1)] = 3.19402785097039\n",
      "[   Edge(11, \"Voeren\", \"Berneau\", 0.10719241288031257, 1)] = 25.848611127172447\n",
      "[      Edge(12, \"Berneau\", \"Liege\", 1.811799503604245, 0)] = 28.97163151379611\n",
      "[   Edge(13, \"Berneau\", \"Liege\", 0.026798103220078143, 0)] = 0.0710074643467271\n",
      "[     Edge(14, \"Liege\", \"Warnand\", 1.4494396028833958, 0)] = 13.586254489076591\n",
      "[   Edge(15, \"Liege\", \"Warnand\", 0.021438482576062515, 0)] = 0.15265924182974075\n",
      "[     Edge(16, \"Warnand\", \"Namur\", 0.8627616683829737, 0)] = 11.513744458500199\n",
      "[   Edge(17, \"Namur\", \"Anderlues\", 0.9058997518021225, 0)] = 9.0382125738836\n",
      "[  Edge(18, \"Anderlues\", \"Peronnes\", 7.24719801441698, 0)] = 9.038212565370827\n",
      "[       Edge(19, \"Peronnes\", \"Mons\", 3.62359900720849, 0)] = 22.69420249511353\n",
      "[   Edge(20, \"Mons\", \"Blaregnies\", 1.4494396028833958, 0)] = 15.705790622936128\n",
      "[    Edge(21, \"Warnand\", \"Wanze\", 0.05138052785070492, 0)] = 2.225169272406134\n",
      "[    Edge(22, \"Wanze\", \"Sinsin\", 0.006411787338046799, 1)] = 2.225169272406134\n",
      "[   Edge(23, \"Sinsin\", \"Arlon\", 0.0017010864366246608, 0)] = 2.225169272406134\n",
      "[   Edge(24, \"Arlon\", \"Petange\", 0.027784411798202797, 0)] = 1.9585586754665838\n"
     ]
    }
   ],
   "source": [
    "println(\"flow = \", getvalue(flow))"
   ]
  },
  {
   "cell_type": "code",
   "execution_count": null,
   "metadata": {
    "collapsed": true
   },
   "outputs": [],
   "source": []
  }
 ],
 "metadata": {
  "kernelspec": {
   "display_name": "Julia 0.6.0",
   "language": "julia",
   "name": "julia-0.6"
  },
  "language_info": {
   "file_extension": ".jl",
   "mimetype": "application/julia",
   "name": "julia",
   "version": "0.6.0"
  },
  "toc": {
   "colors": {
    "hover_highlight": "#DAA520",
    "running_highlight": "#FF0000",
    "selected_highlight": "#FFD700"
   },
   "moveMenuLeft": true,
   "nav_menu": {
    "height": "176px",
    "width": "274px"
   },
   "navigate_menu": true,
   "number_sections": true,
   "sideBar": true,
   "threshold": 4,
   "toc_cell": false,
   "toc_section_display": "block",
   "toc_window_display": false,
   "widenNotebook": false
  }
 },
 "nbformat": 4,
 "nbformat_minor": 2
}

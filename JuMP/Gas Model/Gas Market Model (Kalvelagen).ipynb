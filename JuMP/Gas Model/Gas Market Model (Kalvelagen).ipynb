{
 "cells": [
  {
   "cell_type": "markdown",
   "metadata": {},
   "source": [
    "##### Formulation of the GAMS model in JuMP from \n",
    "###### AN IMPROVED FORMULATION FOR A GAS TRANSPORTATION PROBLEM  (ERWIN KALVELAGEN)\n",
    "###### https://www.researchgate.net/publication/2568197_An_Improved_Formulation_For_A_Gas_Transportation_Problem"
   ]
  },
  {
   "cell_type": "markdown",
   "metadata": {},
   "source": [
    "##### Further information on JuMP: \n",
    "https://arxiv.org/pdf/1508.01982.pdf"
   ]
  },
  {
   "cell_type": "markdown",
   "metadata": {},
   "source": [
    "# Read data and Data cleaning"
   ]
  },
  {
   "cell_type": "code",
   "execution_count": 48,
   "metadata": {
    "collapsed": true
   },
   "outputs": [],
   "source": [
    "using DataFrames\n",
    "using JuMP\n",
    "using ExcelReaders"
   ]
  },
  {
   "cell_type": "code",
   "execution_count": 58,
   "metadata": {
    "scrolled": false
   },
   "outputs": [
    {
     "data": {
      "text/html": [
       "<table class=\"data-frame\"><thead><tr><th></th><th>i</th><th>slo</th><th>sup</th><th>plo</th><th>pup</th><th>c</th></tr></thead><tbody><tr><th>1</th><td>Anderlues</td><td>0.0</td><td>1.2</td><td>0</td><td>66.2</td><td>0.0</td></tr><tr><th>2</th><td>Antwerpen</td><td>-Inf</td><td>-4.034</td><td>30</td><td>80.0</td><td>0.0</td></tr><tr><th>3</th><td>Arlon</td><td>-Inf</td><td>-0.222</td><td>0</td><td>66.2</td><td>0.0</td></tr><tr><th>4</th><td>Berneau</td><td>0.0</td><td>0.0</td><td>0</td><td>66.2</td><td>0.0</td></tr><tr><th>5</th><td>Blaregnies</td><td>-Inf</td><td>-15.616</td><td>50</td><td>66.2</td><td>0.0</td></tr><tr><th>6</th><td>Brugge</td><td>-Inf</td><td>-3.918</td><td>30</td><td>80.0</td><td>0.0</td></tr></tbody></table>"
      ],
      "text/plain": [
       "6×6 DataFrames.DataFrame\n",
       "│ Row │ i            │ slo  │ sup     │ plo │ pup  │ c   │\n",
       "├─────┼──────────────┼──────┼─────────┼─────┼──────┼─────┤\n",
       "│ 1   │ \"Anderlues\"  │ 0.0  │ 1.2     │ 0   │ 66.2 │ 0.0 │\n",
       "│ 2   │ \"Antwerpen\"  │ -Inf │ -4.034  │ 30  │ 80.0 │ 0.0 │\n",
       "│ 3   │ \"Arlon\"      │ -Inf │ -0.222  │ 0   │ 66.2 │ 0.0 │\n",
       "│ 4   │ \"Berneau\"    │ 0.0  │ 0.0     │ 0   │ 66.2 │ 0.0 │\n",
       "│ 5   │ \"Blaregnies\" │ -Inf │ -15.616 │ 50  │ 66.2 │ 0.0 │\n",
       "│ 6   │ \"Brugge\"     │ -Inf │ -3.918  │ 30  │ 80.0 │ 0.0 │"
      ]
     },
     "execution_count": 58,
     "metadata": {},
     "output_type": "execute_result"
    }
   ],
   "source": [
    "Ndata = readtable(\"Ndata.csv\", separator=';') # node data\n",
    "head(Ndata)"
   ]
  },
  {
   "cell_type": "code",
   "execution_count": 59,
   "metadata": {
    "scrolled": false
   },
   "outputs": [
    {
     "data": {
      "text/html": [
       "<table class=\"data-frame\"><thead><tr><th></th><th>a</th><th>i</th><th>j</th><th>D</th><th>L</th><th>act</th></tr></thead><tbody><tr><th>1</th><td>1</td><td>Zeebrugge</td><td>Dudzele</td><td>890.0</td><td>4.0</td><td>0</td></tr><tr><th>2</th><td>2</td><td>Zeebrugge</td><td>Dudzele</td><td>890.0</td><td>4.0</td><td>0</td></tr><tr><th>3</th><td>3</td><td>Dudzele</td><td>Brugge</td><td>890.0</td><td>6.0</td><td>0</td></tr><tr><th>4</th><td>4</td><td>Dudzele</td><td>Brugge</td><td>890.0</td><td>6.0</td><td>0</td></tr><tr><th>5</th><td>5</td><td>Brugge</td><td>Zomergem</td><td>890.0</td><td>26.0</td><td>0</td></tr><tr><th>6</th><td>6</td><td>Loenhout</td><td>Antwerpen</td><td>590.1</td><td>43.0</td><td>0</td></tr></tbody></table>"
      ],
      "text/plain": [
       "6×6 DataFrames.DataFrame\n",
       "│ Row │ a │ i           │ j           │ D     │ L    │ act │\n",
       "├─────┼───┼─────────────┼─────────────┼───────┼──────┼─────┤\n",
       "│ 1   │ 1 │ \"Zeebrugge\" │ \"Dudzele\"   │ 890.0 │ 4.0  │ 0   │\n",
       "│ 2   │ 2 │ \"Zeebrugge\" │ \"Dudzele\"   │ 890.0 │ 4.0  │ 0   │\n",
       "│ 3   │ 3 │ \"Dudzele\"   │ \"Brugge\"    │ 890.0 │ 6.0  │ 0   │\n",
       "│ 4   │ 4 │ \"Dudzele\"   │ \"Brugge\"    │ 890.0 │ 6.0  │ 0   │\n",
       "│ 5   │ 5 │ \"Brugge\"    │ \"Zomergem\"  │ 890.0 │ 26.0 │ 0   │\n",
       "│ 6   │ 6 │ \"Loenhout\"  │ \"Antwerpen\" │ 590.1 │ 43.0 │ 0   │"
      ]
     },
     "execution_count": 59,
     "metadata": {},
     "output_type": "execute_result"
    }
   ],
   "source": [
    "Adata = readtable(\"Adata.csv\", separator=';') # line data\n",
    "head(Adata)"
   ]
  },
  {
   "cell_type": "code",
   "execution_count": 51,
   "metadata": {
    "scrolled": true
   },
   "outputs": [],
   "source": [
    "I = Ndata[:i]; #set of cities -->  i,j element of I "
   ]
  },
  {
   "cell_type": "code",
   "execution_count": 52,
   "metadata": {
    "scrolled": true
   },
   "outputs": [
    {
     "data": {
      "text/plain": [
       "24"
      ]
     },
     "execution_count": 52,
     "metadata": {},
     "output_type": "execute_result"
    }
   ],
   "source": [
    "A = length(Adata[:a])"
   ]
  },
  {
   "cell_type": "markdown",
   "metadata": {},
   "source": [
    "## Constants"
   ]
  },
  {
   "cell_type": "code",
   "execution_count": 60,
   "metadata": {
    "scrolled": true
   },
   "outputs": [],
   "source": [
    "T= 281.5\n",
    "e = 0.05\n",
    "den = 0.616\n",
    "z = 0.8\n",
    "epsilon = 0.05\n",
    "delta = 0.6106;"
   ]
  },
  {
   "cell_type": "code",
   "execution_count": 54,
   "metadata": {},
   "outputs": [],
   "source": [
    "#readxl(DataFrame,\"Adata.xlsx\",\"Tabelle1!A1:F25\");"
   ]
  },
  {
   "cell_type": "markdown",
   "metadata": {},
   "source": [
    "## Read line data\n",
    "### Calculate pipeline characteristics"
   ]
  },
  {
   "cell_type": "markdown",
   "metadata": {},
   "source": [
    "$$ lambda_{aij} = \\frac {1} { \\frac {\\sqrt{2* \\log_{10}*3.7*diameter_{aij}}} {epsilon}}  $$\n",
    "\n",
    "$$ pipecoeff_{aij} = 96.074830*10^{-15} * \\frac {diameter_{aij}^5 } { lambda_{aij}*z*T*length_{aij}*delta) } $$"
   ]
  },
  {
   "cell_type": "code",
   "execution_count": 55,
   "metadata": {},
   "outputs": [
    {
     "data": {
      "text/html": [
       "<table class=\"data-frame\"><thead><tr><th></th><th>a</th><th>i</th><th>j</th><th>D</th><th>L</th><th>act</th></tr></thead><tbody><tr><th>1</th><td>1</td><td>Zeebrugge</td><td>Dudzele</td><td>890.0</td><td>4.0</td><td>0</td></tr><tr><th>2</th><td>2</td><td>Zeebrugge</td><td>Dudzele</td><td>890.0</td><td>4.0</td><td>0</td></tr><tr><th>3</th><td>3</td><td>Dudzele</td><td>Brugge</td><td>890.0</td><td>6.0</td><td>0</td></tr><tr><th>4</th><td>4</td><td>Dudzele</td><td>Brugge</td><td>890.0</td><td>6.0</td><td>0</td></tr><tr><th>5</th><td>5</td><td>Brugge</td><td>Zomergem</td><td>890.0</td><td>26.0</td><td>0</td></tr><tr><th>6</th><td>6</td><td>Loenhout</td><td>Antwerpen</td><td>590.1</td><td>43.0</td><td>0</td></tr></tbody></table>"
      ],
      "text/plain": [
       "6×6 DataFrames.DataFrame\n",
       "│ Row │ a │ i           │ j           │ D     │ L    │ act │\n",
       "├─────┼───┼─────────────┼─────────────┼───────┼──────┼─────┤\n",
       "│ 1   │ 1 │ \"Zeebrugge\" │ \"Dudzele\"   │ 890.0 │ 4.0  │ 0   │\n",
       "│ 2   │ 2 │ \"Zeebrugge\" │ \"Dudzele\"   │ 890.0 │ 4.0  │ 0   │\n",
       "│ 3   │ 3 │ \"Dudzele\"   │ \"Brugge\"    │ 890.0 │ 6.0  │ 0   │\n",
       "│ 4   │ 4 │ \"Dudzele\"   │ \"Brugge\"    │ 890.0 │ 6.0  │ 0   │\n",
       "│ 5   │ 5 │ \"Brugge\"    │ \"Zomergem\"  │ 890.0 │ 26.0 │ 0   │\n",
       "│ 6   │ 6 │ \"Loenhout\"  │ \"Antwerpen\" │ 590.1 │ 43.0 │ 0   │"
      ]
     },
     "execution_count": 55,
     "metadata": {},
     "output_type": "execute_result"
    }
   ],
   "source": [
    "head(Adata)"
   ]
  },
  {
   "cell_type": "code",
   "execution_count": 56,
   "metadata": {},
   "outputs": [
    {
     "ename": "LoadError",
     "evalue": "\u001b[91mMethodError: no method matching start(::DataFrames.DataFrame)\u001b[0m\nClosest candidates are:\n  start(\u001b[91m::SimpleVector\u001b[39m) at essentials.jl:258\n  start(\u001b[91m::Base.MethodList\u001b[39m) at reflection.jl:560\n  start(\u001b[91m::ExponentialBackOff\u001b[39m) at error.jl:107\n  ...\u001b[39m",
     "output_type": "error",
     "traceback": [
      "\u001b[91mMethodError: no method matching start(::DataFrames.DataFrame)\u001b[0m\nClosest candidates are:\n  start(\u001b[91m::SimpleVector\u001b[39m) at essentials.jl:258\n  start(\u001b[91m::Base.MethodList\u001b[39m) at reflection.jl:560\n  start(\u001b[91m::ExponentialBackOff\u001b[39m) at error.jl:107\n  ...\u001b[39m",
      "",
      "Stacktrace:",
      " [1] \u001b[1mappend_any\u001b[22m\u001b[22m\u001b[1m(\u001b[22m\u001b[22m::DataFrames.DataFrame, ::Vararg{DataFrames.DataFrame,N} where N\u001b[1m)\u001b[22m\u001b[22m at \u001b[1m./essentials.jl:169\u001b[22m\u001b[22m",
      " [2] \u001b[1mmacro expansion\u001b[22m\u001b[22m at \u001b[1m./In[56]:11\u001b[22m\u001b[22m [inlined]",
      " [3] \u001b[1manonymous\u001b[22m\u001b[22m at \u001b[1m./<missing>:?\u001b[22m\u001b[22m",
      " [4] \u001b[1minclude_string\u001b[22m\u001b[22m\u001b[1m(\u001b[22m\u001b[22m::String, ::String\u001b[1m)\u001b[22m\u001b[22m at \u001b[1m./loading.jl:515\u001b[22m\u001b[22m"
     ]
    }
   ],
   "source": [
    "df = Adata\n",
    "lambda = Dict()\n",
    "pipecoeff = Dict()\n",
    "act = Dict()\n",
    "\n",
    "for itera in 1:size(df, 1)\n",
    "    i = df[itera,2]\n",
    "    j = df[itera,3]\n",
    "    lambda[i,j] = 1/sqrt(2*log10(3.7*df[itera,4]/epsilon))\n",
    "    pipecoeff[i,j] = 96.074830e-15 *  (df[itera,4]^5/(lambda[i,j]*z*T*df[itera,5]*delta) )\n",
    "    println(tuple(df[itera,1:3]...))\n",
    "    println(tuple(df[itera,:1:3]...))\n",
    "    di[tuple(df[itera,:1:3]...)]  = df[i,4]\n",
    "\n",
    "    len[tuple(df[itera,:1:3]...)] = df[i,5]\n",
    "\n",
    "    act[tuple(df[itera,:1:3]...)] = df[itera,6]\n",
    "end\n",
    "\n"
   ]
  },
  {
   "cell_type": "code",
   "execution_count": 57,
   "metadata": {
    "collapsed": true
   },
   "outputs": [],
   "source": [
    "# I = unique(df[:,2]);"
   ]
  },
  {
   "cell_type": "code",
   "execution_count": null,
   "metadata": {
    "scrolled": true
   },
   "outputs": [],
   "source": [
    "#parMatrix = readdlm(\"Adata.csv\", ';',skipstart=1);\n",
    "#df = parMatrix\n",
    "#di = Dict() #diameter\n",
    "#len = Dict() #length\n",
    "#act = Dict() #active pipeline\n",
    "\n",
    "#for i in 1:size(df, 1)\n",
    "#    #println(tuple(df[i, :]...))\n",
    "#    di[tuple(df[i,:1:3]...)]  = df[i,4]\n",
    "#    len[tuple(df[i,:1:3]...)] = df[i,5]\n",
    "#    act[tuple(df[i,:1:3]...)] = df[i,6]\n",
    "#end"
   ]
  },
  {
   "cell_type": "markdown",
   "metadata": {},
   "source": [
    "## Read node data"
   ]
  },
  {
   "cell_type": "code",
   "execution_count": null,
   "metadata": {},
   "outputs": [],
   "source": [
    "df = Ndata\n",
    "si = [] #supply subset\n",
    "c = Dict()\n",
    "plo = Dict()\n",
    "slo = Dict()\n",
    "sup = Dict()\n",
    "\n",
    "for b in 1:size(df, 1)\n",
    "    ival = df[b,1]\n",
    "    c[ival] = df[b,6]\n",
    "    plo[ival] = df[b,4]\n",
    "    slo[ival] = df[b,2]\n",
    "    sup[ival] = df[b,3]\n",
    "    if df[b,6] > 0 \n",
    "        push!(si,ival)\n",
    "    end \n",
    "\n",
    "end"
   ]
  },
  {
   "cell_type": "code",
   "execution_count": null,
   "metadata": {
    "collapsed": true
   },
   "outputs": [],
   "source": [
    "J = Dict()\n",
    "for itera in 1:size(df, 1)    \n",
    "    ival = df[itera,2]\n",
    "    J[ival] = df[df[:,2] .== ival, 3]\n",
    "end\n"
   ]
  },
  {
   "cell_type": "code",
   "execution_count": null,
   "metadata": {
    "collapsed": true
   },
   "outputs": [],
   "source": [
    "for i in I\n",
    "    try \n",
    "        J[i]\n",
    "    catch\n",
    "        J[i]= \"\"\n",
    "    end    \n",
    "        \n",
    "end"
   ]
  },
  {
   "cell_type": "markdown",
   "metadata": {},
   "source": [
    "## Edge formulation\n",
    "###### https://arxiv.org/pdf/1508.01982.pdf p.6"
   ]
  },
  {
   "cell_type": "code",
   "execution_count": 85,
   "metadata": {},
   "outputs": [],
   "source": [
    "immutable Edge\n",
    "    from; to; cost; capacity\n",
    "end\n",
    "\n",
    "edges = [Edge(2,3,4,5),Edge(2,3,4,5)]\n",
    "#f = Edge((\"from\",\"to\", \"cost\",\"capactiy\") => basename = [\n",
    "#        Edge(\"1\",\"2\",\"3\",\"4\") for (a,b,c,d) in test]);"
   ]
  },
  {
   "cell_type": "code",
   "execution_count": 92,
   "metadata": {},
   "outputs": [
    {
     "ename": "LoadError",
     "evalue": "\u001b[91minvalid redefinition of constant Edge\u001b[39m",
     "output_type": "error",
     "traceback": [
      "\u001b[91minvalid redefinition of constant Edge\u001b[39m",
      "",
      "Stacktrace:",
      " [1] \u001b[1minclude_string\u001b[22m\u001b[22m\u001b[1m(\u001b[22m\u001b[22m::String, ::String\u001b[1m)\u001b[22m\u001b[22m at \u001b[1m./loading.jl:515\u001b[22m\u001b[22m"
     ]
    }
   ],
   "source": [
    "immutable Edge\n",
    "    route; from; to; diameter; length; active\n",
    "end\n",
    "\n",
    "for itera in 1:size(df, 1)\n",
    "    println(df[itera,:1])\n",
    "    a = df[itera,:1] #set route\n",
    "    i = df[itera,:2] #set start node\n",
    "    j = df[itera,:3] #set end node\n",
    "    d = df[itera,:4] #diameter\n",
    "    l = df[itera,:5] #length\n",
    "    act = df[itera,:6] #active? --> compressor\n",
    "    push!(edges,Edge(a,i,j,d,l,act))\n",
    "end"
   ]
  },
  {
   "cell_type": "markdown",
   "metadata": {},
   "source": [
    "# Model "
   ]
  },
  {
   "cell_type": "code",
   "execution_count": null,
   "metadata": {
    "scrolled": false
   },
   "outputs": [],
   "source": [
    "using Gurobi #Solver"
   ]
  },
  {
   "cell_type": "code",
   "execution_count": null,
   "metadata": {
    "scrolled": false
   },
   "outputs": [],
   "source": [
    "m = Model(solver = GurobiSolver(Presolve=0))"
   ]
  },
  {
   "cell_type": "markdown",
   "metadata": {},
   "source": [
    "## Sets and subsets"
   ]
  },
  {
   "cell_type": "code",
   "execution_count": null,
   "metadata": {
    "scrolled": false
   },
   "outputs": [],
   "source": [
    "head(Ndata)"
   ]
  },
  {
   "cell_type": "code",
   "execution_count": null,
   "metadata": {},
   "outputs": [],
   "source": [
    "i_sup = Ndata[Ndata[:sup] .>0, :i] # supply nodes"
   ]
  },
  {
   "cell_type": "code",
   "execution_count": null,
   "metadata": {},
   "outputs": [],
   "source": [
    "head(Adata)"
   ]
  },
  {
   "cell_type": "markdown",
   "metadata": {},
   "source": [
    "### aij\n",
    "$$aij $$ "
   ]
  },
  {
   "cell_type": "code",
   "execution_count": 72,
   "metadata": {
    "scrolled": true
   },
   "outputs": [
    {
     "name": "stdout",
     "output_type": "stream",
     "text": [
      "(1, \"Zeebrugge\", \"Dudzele\")(2, \"Zeebrugge\", \"Dudzele\")(3, \"Dudzele\", \"Brugge\")(4, \"Dudzele\", \"Brugge\")(5, \"Brugge\", \"Zomergem\")(6, \"Loenhout\", \"Antwerpen\")(7, \"Antwerpen\", \"Gent\")(8, \"Gent\", \"Zomergem\")(9, \"Zomergem\", \"Peronnes\")(10, \"Voeren\", \"Berneau\")(11, \"Voeren\", \"Berneau\")(12, \"Berneau\", \"Liege\")(13, \"Berneau\", \"Liege\")(14, \"Liege\", \"Warnand\")(15, \"Liege\", \"Warnand\")(16, \"Warnand\", \"Namur\")(17, \"Namur\", \"Anderlues\")(18, \"Anderlues\", \"Peronnes\")(19, \"Peronnes\", \"Mons\")(20, \"Mons\", \"Blaregnies\")(21, \"Warnand\", \"Wanze\")(22, \"Wanze\", \"Sinsin\")(23, \"Sinsin\", \"Arlon\")(24, \"Arlon\", \"Petange\")"
     ]
    }
   ],
   "source": [
    "test = Adata #active\n",
    "\n",
    "AIJ = Tuple[]\n",
    "\n",
    "for i in 1:size(test, 1)\n",
    "    print(tuple((test[i,1]),test[i,2],test[i,3]))\n",
    "    push!(AIJ,tuple((test[i,1]),test[i,2],test[i,3]))\n",
    "end"
   ]
  },
  {
   "cell_type": "markdown",
   "metadata": {},
   "source": [
    "### aij_active\n",
    "$$aij_{active} $$"
   ]
  },
  {
   "cell_type": "code",
   "execution_count": null,
   "metadata": {},
   "outputs": [],
   "source": [
    "test = Adata[Adata[:act] .== 1, :2:3] #active\n",
    "\n",
    "a = Tuple[]\n",
    "b = Tuple[]\n",
    "\n",
    "for i in 1:size(test, 1)\n",
    "    print(tuple((test[i,1]),test[i,2]))\n",
    "    push!(a,tuple((test[i,1]),test[i,2]))\n",
    "end\n",
    "\n",
    "test = Adata[Adata[:act] .== 0, :2:3] #passive\n",
    "\n",
    "for i in 1:size(test, 1)\n",
    "    #println(Array(test[i,1:2]))\n",
    "    push!(b,tuple((test[i,1]),test[i,2]))\n",
    "end"
   ]
  },
  {
   "cell_type": "code",
   "execution_count": null,
   "metadata": {},
   "outputs": [],
   "source": [
    "A = length(I)"
   ]
  },
  {
   "cell_type": "markdown",
   "metadata": {},
   "source": [
    "## Variables"
   ]
  },
  {
   "cell_type": "markdown",
   "metadata": {},
   "source": [
    "##### When using a tuple as an index (a,i,j) the automated latex generation does not really work"
   ]
  },
  {
   "cell_type": "code",
   "execution_count": null,
   "metadata": {},
   "outputs": [],
   "source": [
    "# f_aij\n",
    "f = Dict((a,i, j) => @variable(m, basename = \n",
    "        \"x[$(string(a)),$(string(i)),$(string(j))]\") for (a,i,j) in AIJ);"
   ]
  },
  {
   "cell_type": "code",
   "execution_count": null,
   "metadata": {
    "scrolled": true
   },
   "outputs": [],
   "source": [
    "#@variable(m, f[for a,b,c in AIJ] >= 0 ) # f_a,i,j "
   ]
  },
  {
   "cell_type": "code",
   "execution_count": null,
   "metadata": {
    "scrolled": true
   },
   "outputs": [],
   "source": [
    "@variable(m, -Inf<=s[I]<=Inf  ) # s_a,i,j, supply demand"
   ]
  },
  {
   "cell_type": "code",
   "execution_count": null,
   "metadata": {},
   "outputs": [],
   "source": [
    "@variable(m, pi[I] >= 0 ) #squared pressure"
   ]
  },
  {
   "cell_type": "code",
   "execution_count": null,
   "metadata": {},
   "outputs": [],
   "source": [
    "@variable(m, sc >= 0 )"
   ]
  },
  {
   "cell_type": "code",
   "execution_count": null,
   "metadata": {
    "scrolled": true
   },
   "outputs": [],
   "source": [
    "m"
   ]
  },
  {
   "cell_type": "markdown",
   "metadata": {},
   "source": [
    "## Objective"
   ]
  },
  {
   "cell_type": "code",
   "execution_count": null,
   "metadata": {
    "scrolled": false
   },
   "outputs": [],
   "source": [
    "@objective(m, Min, sum(s[i] * c[i] for i in si ) )"
   ]
  },
  {
   "cell_type": "markdown",
   "metadata": {},
   "source": [
    "## Constraints"
   ]
  },
  {
   "cell_type": "markdown",
   "metadata": {},
   "source": [
    "\n",
    "Equations \n",
    "* flowbalance(i)    flow conservation\n",
    "* weymouthp(a,i,j)  flow pressure relationship - passive\n",
    "* weymoutha(a,i,j)  flow pressure relationship - active\n",
    "* defsc             definition of supply cost\n"
   ]
  },
  {
   "cell_type": "code",
   "execution_count": null,
   "metadata": {},
   "outputs": [],
   "source": [
    "# node balance\n",
    "for i in I\n",
    "    @constraint(m, sum(f[aij] for aij in AIJ) == \n",
    "                sum(f[aij]  for aij in AIJ) + s[i])\n",
    "end"
   ]
  },
  {
   "cell_type": "code",
   "execution_count": null,
   "metadata": {
    "collapsed": true
   },
   "outputs": [],
   "source": [
    "# passive linear\n",
    "for ele in b\n",
    "    i = ele[1]\n",
    "    j = ele[2]\n",
    "    @constraint(m, f[i, j] == pipecoeff[i, j] * (pi[i] - pi[j]) ) ;\n",
    "end"
   ]
  },
  {
   "cell_type": "code",
   "execution_count": null,
   "metadata": {
    "collapsed": true
   },
   "outputs": [],
   "source": [
    "# active linear\n",
    "\n",
    "for ele in a\n",
    "    i = ele[1]\n",
    "    j = ele[2]\n",
    "    @constraint(m, f[i, j] >= pipecoeff[i, j] * (pi[i] - pi[j]) ) ;\n",
    "end\n"
   ]
  },
  {
   "cell_type": "code",
   "execution_count": null,
   "metadata": {
    "collapsed": true
   },
   "outputs": [],
   "source": [
    "for i in I\n",
    "    @constraint(m, s[i] >= slo[i] ) \n",
    "    @constraint(m, s[i] <= sup[i] ) \n",
    "    @constraint(m, pi[i] >= sqrt(plo[i]) ) \n",
    "end"
   ]
  },
  {
   "cell_type": "markdown",
   "metadata": {},
   "source": [
    "## Solve"
   ]
  },
  {
   "cell_type": "code",
   "execution_count": null,
   "metadata": {
    "scrolled": true
   },
   "outputs": [],
   "source": [
    "status = solve(m)"
   ]
  },
  {
   "cell_type": "code",
   "execution_count": null,
   "metadata": {},
   "outputs": [],
   "source": [
    "println(\"f = \", getvalue(pi))"
   ]
  },
  {
   "cell_type": "markdown",
   "metadata": {},
   "source": [
    "# Garbage"
   ]
  },
  {
   "cell_type": "code",
   "execution_count": null,
   "metadata": {},
   "outputs": [],
   "source": [
    "function fa{T<:Any}(A::Array{T,2})\n",
    "    return tuple([A[c,:] for c in 1:size(A,1)]...)\n",
    "end\n",
    "\n",
    "A = rand(4,5)\n",
    "tup = fa(A)"
   ]
  }
 ],
 "metadata": {
  "kernelspec": {
   "display_name": "Julia 0.6.0",
   "language": "julia",
   "name": "julia-0.6"
  },
  "language_info": {
   "file_extension": ".jl",
   "mimetype": "application/julia",
   "name": "julia",
   "version": "0.6.0"
  },
  "toc": {
   "colors": {
    "hover_highlight": "#DAA520",
    "running_highlight": "#FF0000",
    "selected_highlight": "#FFD700"
   },
   "moveMenuLeft": true,
   "nav_menu": {
    "height": "176px",
    "width": "274px"
   },
   "navigate_menu": true,
   "number_sections": true,
   "sideBar": true,
   "threshold": 4,
   "toc_cell": false,
   "toc_section_display": "block",
   "toc_window_display": false,
   "widenNotebook": false
  }
 },
 "nbformat": 4,
 "nbformat_minor": 2
}
